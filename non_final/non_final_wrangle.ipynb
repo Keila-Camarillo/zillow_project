{
 "cells": [
  {
   "cell_type": "code",
   "execution_count": 1,
   "id": "b999caf8",
   "metadata": {},
   "outputs": [],
   "source": [
    "import pandas as pd\n",
    "import numpy as np\n",
    "import seaborn as sns\n",
    "import matplotlib.pyplot as plt\n",
    "from scipy import stats\n",
    "from sklearn.model_selection import train_test_split\n",
    "import sklearn.preprocessing\n",
    "\n",
    "import wrangle as w"
   ]
  },
  {
   "cell_type": "code",
   "execution_count": 4,
   "id": "b4505ae7",
   "metadata": {},
   "outputs": [],
   "source": [
    "df= w.get_data()"
   ]
  },
  {
   "cell_type": "code",
   "execution_count": 5,
   "id": "3c412b24",
   "metadata": {},
   "outputs": [
    {
     "name": "stdout",
     "output_type": "stream",
     "text": [
      "826 outliers removed from area_sqft.\n",
      "936 outliers removed from bathrooms.\n",
      "482 outliers removed from bedroom.\n",
      "0 outliers removed from pool.\n",
      "25 outliers removed from year.\n",
      "839 outliers removed from property_value.\n",
      "0 outliers removed from full_bath.\n",
      "\n",
      "Total of 3108 outliers removed.\n"
     ]
    }
   ],
   "source": [
    "df = w.clean_zillow()"
   ]
  },
  {
   "cell_type": "code",
   "execution_count": null,
   "id": "a50f5218",
   "metadata": {},
   "outputs": [],
   "source": [
    "df"
   ]
  },
  {
   "cell_type": "code",
   "execution_count": null,
   "id": "25c442d2",
   "metadata": {},
   "outputs": [],
   "source": [
    "df.describe()"
   ]
  },
  {
   "cell_type": "code",
   "execution_count": null,
   "id": "144bc54f",
   "metadata": {},
   "outputs": [],
   "source": [
    "df.head()"
   ]
  },
  {
   "cell_type": "code",
   "execution_count": null,
   "id": "d2571728",
   "metadata": {},
   "outputs": [],
   "source": [
    "w.get_numeric_cols(df)"
   ]
  },
  {
   "cell_type": "code",
   "execution_count": null,
   "id": "17cf0e6d",
   "metadata": {},
   "outputs": [],
   "source": [
    "w.get_object_cols(df)"
   ]
  },
  {
   "cell_type": "code",
   "execution_count": null,
   "id": "73e4fe74",
   "metadata": {},
   "outputs": [],
   "source": [
    "# check for nulls\n",
    "df.isnull().sum()\n"
   ]
  },
  {
   "cell_type": "code",
   "execution_count": null,
   "id": "0ea55275",
   "metadata": {},
   "outputs": [],
   "source": [
    "# the column pool has nan if the home does not have a pool will replace with a 0 \n",
    "\n",
    "df[df.pool.isnull()]\n",
    "df[\"pool\"]= df.pool.replace(np.nan,0)"
   ]
  },
  {
   "cell_type": "code",
   "execution_count": null,
   "id": "5c7e13ff",
   "metadata": {},
   "outputs": [],
   "source": [
    "# the column garage has nan if the home does not have a pool will replace with a 0 \n",
    "df[df.garage.isnull()]\n",
    "df[\"garage\"]= df.garage.replace(np.nan,0)"
   ]
  },
  {
   "cell_type": "code",
   "execution_count": null,
   "id": "f36a1758",
   "metadata": {},
   "outputs": [],
   "source": [
    "# the column year has nan will drop nulls from year, area_sqft, and taxvaluedollarcount so it's less likely to skew data \n",
    "df = df.dropna(subset=['year', 'area_sqft', 'property_value'])\n"
   ]
  },
  {
   "cell_type": "code",
   "execution_count": null,
   "id": "052540a6",
   "metadata": {},
   "outputs": [],
   "source": [
    "w.plot_boxplot(df)"
   ]
  },
  {
   "cell_type": "code",
   "execution_count": null,
   "id": "99171e32",
   "metadata": {},
   "outputs": [],
   "source": [
    "w.plot_histograms(df)"
   ]
  },
  {
   "cell_type": "code",
   "execution_count": null,
   "id": "f1357bf1",
   "metadata": {},
   "outputs": [],
   "source": [
    "# new size\n",
    "df.shape "
   ]
  },
  {
   "cell_type": "markdown",
   "id": "4ad23b9e",
   "metadata": {},
   "source": [
    "# split data "
   ]
  },
  {
   "cell_type": "code",
   "execution_count": null,
   "id": "f9666125",
   "metadata": {},
   "outputs": [],
   "source": [
    "train, validate, test = w.split_data(df)"
   ]
  },
  {
   "cell_type": "markdown",
   "id": "ee91be29",
   "metadata": {},
   "source": [
    "# scaling "
   ]
  },
  {
   "cell_type": "code",
   "execution_count": null,
   "id": "ce8024e5",
   "metadata": {},
   "outputs": [],
   "source": [
    "# split into x and y  \n",
    "target = \"property_value\"\n",
    "x_train, x_validate, x_test  = train[['area_sqft', 'bathrooms', 'bedroom', 'garage', 'year']], validate[['area_sqft', 'bathrooms', 'bedroom', 'garage', 'year']], test[['area_sqft', 'bathrooms', 'bedroom', 'garage', 'year']]\n",
    "y_train, y_validate, y_test = train[target], validate[target], test[target]"
   ]
  },
  {
   "cell_type": "code",
   "execution_count": null,
   "id": "1ddb284e",
   "metadata": {},
   "outputs": [],
   "source": [
    "x_train_scaled, x_validate_scaled, x_test_scaled = w.mm_scale(x_train, x_validate, x_test)"
   ]
  }
 ],
 "metadata": {
  "kernelspec": {
   "display_name": "Python 3 (ipykernel)",
   "language": "python",
   "name": "python3"
  },
  "language_info": {
   "codemirror_mode": {
    "name": "ipython",
    "version": 3
   },
   "file_extension": ".py",
   "mimetype": "text/x-python",
   "name": "python",
   "nbconvert_exporter": "python",
   "pygments_lexer": "ipython3",
   "version": "3.9.13"
  }
 },
 "nbformat": 4,
 "nbformat_minor": 5
}
