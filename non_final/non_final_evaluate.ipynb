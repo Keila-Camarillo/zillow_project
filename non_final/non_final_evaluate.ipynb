{
 "cells": [
  {
   "cell_type": "code",
   "execution_count": 1,
   "id": "53dfccb1",
   "metadata": {},
   "outputs": [],
   "source": [
    "import warnings\n",
    "warnings.filterwarnings('ignore')\n",
    "\n",
    "import pandas as pd\n",
    "import numpy as np\n",
    "\n",
    "\n",
    "import wrangle as w\n",
    "import evaluate as e\n",
    "import model as m\n",
    "\n",
    "import seaborn as sns\n",
    "import matplotlib.pyplot as plt\n",
    "from scipy import stats\n",
    "\n",
    "from sklearn.feature_selection import f_regression \n",
    "from math import sqrt\n",
    "\n",
    "#sklearn imports\n",
    "from sklearn.linear_model import LinearRegression, LassoLars, TweedieRegressor\n",
    "from sklearn.feature_selection import RFE, SelectKBest, f_regression\n",
    "from sklearn.preprocessing import MinMaxScaler, PolynomialFeatures\n",
    "from sklearn.model_selection import train_test_split\n",
    "from sklearn.metrics import mean_squared_error, r2_score, explained_variance_score\n",
    "from sklearn.metrics import r2_score"
   ]
  },
  {
   "cell_type": "markdown",
   "id": "5ad6a366",
   "metadata": {},
   "source": [
    "# Project Description\n",
    "Zillow is a real estate marketplace company. The Zillow dataset is utilized in this project to find drivers for property value for single family properties. "
   ]
  },
  {
   "cell_type": "markdown",
   "id": "6f616ab8",
   "metadata": {},
   "source": [
    "# Project Description\n",
    "Zillow is a real estate marketplace company. The Zillow dataset is utilized in this project to find drivers for property value for single family properties. "
   ]
  },
  {
   "cell_type": "markdown",
   "id": "3a1c696f",
   "metadata": {},
   "source": [
    "# Project Goal\n",
    "\n",
    "* Discover drivers of property value in the Zillow dataset. \n",
    "* Use drivers to develop a machine learning model to predict the property value for a single family property.\n",
    "* Property value is defined as an estimated value for a property.\n",
    "* This information could be used to further our understanding of which elements contribute to the value of a property.\n",
    "\n",
    "# Initial Thoughts\n",
    "\n",
    "My initial hypothesis is that drivers of churn will be elements such as 'area_sqft', 'bathrooms', 'bedroom', 'fips', 'pool', 'year'."
   ]
  },
  {
   "cell_type": "markdown",
   "id": "611b13df",
   "metadata": {},
   "source": [
    "# Acquire\n",
    "* Aquire dataset from Codeup database\n",
    "* It contained 52442 rows and 7 columns before cleaning\n",
    "* Each row represents a property at Zillow\n",
    "* Each column represents a feature of those properties"
   ]
  },
  {
   "cell_type": "markdown",
   "id": "b3f87342",
   "metadata": {},
   "source": [
    "# Prepare\n",
    "- Prepare Actions:\n",
    "    * Filtered columns that did not contain useful information\n",
    "    * Renamed columns to promote readability\n",
    "    * Checked for nulls in the data. The following columns contained nulls: \n",
    "        - 'pool' column, which were set to 0 (0 representing that the home did not have a pool)\n",
    "        - 'year' (116 nulls)\n",
    "        - 'area_sqft' (82 nulls), and property_value (1 null) columns, these rows were dropped  \n",
    "    * Checked that column data types were appropriate\n",
    "    * Added automatic_payment column, which divides the four payment types in payment_type column into two categories: automatic or non-automatic\n",
    "    * Removed features:\n",
    "        - customer_id            \n",
    "        - senior_citizen                         \n",
    "        - phone_service            \n",
    "        - monthly_charges        \n",
    "        - total_charges          \n",
    "        - payment_type\n",
    "    * Encoded categorical variables\n",
    "    * Split data into train, validate and test (approx. 60/20/20), stratifying on 'churn'\n",
    "    * Outliers have not been removed for this iteration of the project"
   ]
  },
  {
   "cell_type": "code",
   "execution_count": 2,
   "id": "929d6f95",
   "metadata": {},
   "outputs": [],
   "source": [
    "# retrieve the data from database or directory \n",
    "df = w.get_data()"
   ]
  },
  {
   "cell_type": "code",
   "execution_count": 3,
   "id": "bb87cba4",
   "metadata": {},
   "outputs": [
    {
     "data": {
      "text/plain": [
       "area_sqft          82\n",
       "bathrooms           0\n",
       "bedroom             0\n",
       "fips                0\n",
       "year              116\n",
       "property_value      1\n",
       "dtype: int64"
      ]
     },
     "execution_count": 3,
     "metadata": {},
     "output_type": "execute_result"
    }
   ],
   "source": [
    "df.isnull().sum()"
   ]
  },
  {
   "cell_type": "code",
   "execution_count": 4,
   "id": "c196e2b4",
   "metadata": {},
   "outputs": [
    {
     "data": {
      "text/plain": [
       "(52442, 6)"
      ]
     },
     "execution_count": 4,
     "metadata": {},
     "output_type": "execute_result"
    }
   ],
   "source": [
    "df.shape"
   ]
  },
  {
   "cell_type": "code",
   "execution_count": 5,
   "id": "7d0236be",
   "metadata": {},
   "outputs": [
    {
     "name": "stdout",
     "output_type": "stream",
     "text": [
      "826 outliers removed from area_sqft.\n",
      "936 outliers removed from bathrooms.\n",
      "482 outliers removed from bedroom.\n",
      "25 outliers removed from year.\n",
      "839 outliers removed from property_value.\n",
      "0 outliers removed from full_bath.\n",
      "\n",
      "Total of 3108 outliers removed.\n"
     ]
    }
   ],
   "source": [
    "# clean data, remove nulls, outliers and rename columns\n",
    "df = w.clean_zillow()"
   ]
  },
  {
   "cell_type": "code",
   "execution_count": 6,
   "id": "1f305dd8",
   "metadata": {},
   "outputs": [],
   "source": [
    "# split the data into train, validate, test\n",
    "train, validate, test = w.split_data(df)"
   ]
  },
  {
   "cell_type": "code",
   "execution_count": 7,
   "id": "1618c846",
   "metadata": {},
   "outputs": [
    {
     "data": {
      "text/plain": [
       "Index(['area_sqft', 'bathrooms', 'bedroom', 'fips', 'year', 'property_value',\n",
       "       'full_bath', 'orange', 'ventura'],\n",
       "      dtype='object')"
      ]
     },
     "execution_count": 7,
     "metadata": {},
     "output_type": "execute_result"
    }
   ],
   "source": [
    "df.columns"
   ]
  },
  {
   "cell_type": "code",
   "execution_count": 9,
   "id": "601f3f3f",
   "metadata": {},
   "outputs": [],
   "source": [
    "features = ['area_sqft', 'bathrooms', 'bedroom', 'year', 'full_bath','orange', 'ventura'] # 311745.604323\t0.412103\n",
    "target = \"property_value\"\n",
    "\n",
    "## 3 std 265829.593614\t0.357482"
   ]
  },
  {
   "cell_type": "code",
   "execution_count": 10,
   "id": "1008a09a",
   "metadata": {},
   "outputs": [],
   "source": [
    "# split the train, validate, test into x and y \n",
    "\n",
    "x_train, x_validate, x_test  = train[features], validate[features], test[features]\n",
    "y_train, y_validate, y_test = train[target], validate[target], test[target]"
   ]
  },
  {
   "cell_type": "code",
   "execution_count": 11,
   "id": "a908c971",
   "metadata": {},
   "outputs": [
    {
     "data": {
      "text/html": [
       "<div>\n",
       "<style scoped>\n",
       "    .dataframe tbody tr th:only-of-type {\n",
       "        vertical-align: middle;\n",
       "    }\n",
       "\n",
       "    .dataframe tbody tr th {\n",
       "        vertical-align: top;\n",
       "    }\n",
       "\n",
       "    .dataframe thead th {\n",
       "        text-align: right;\n",
       "    }\n",
       "</style>\n",
       "<table border=\"1\" class=\"dataframe\">\n",
       "  <thead>\n",
       "    <tr style=\"text-align: right;\">\n",
       "      <th></th>\n",
       "      <th>area_sqft</th>\n",
       "      <th>bathrooms</th>\n",
       "      <th>bedroom</th>\n",
       "      <th>year</th>\n",
       "      <th>full_bath</th>\n",
       "      <th>orange</th>\n",
       "      <th>ventura</th>\n",
       "    </tr>\n",
       "  </thead>\n",
       "  <tbody>\n",
       "    <tr>\n",
       "      <th>28627</th>\n",
       "      <td>1624.0</td>\n",
       "      <td>2.0</td>\n",
       "      <td>2.0</td>\n",
       "      <td>1971.0</td>\n",
       "      <td>1</td>\n",
       "      <td>1</td>\n",
       "      <td>0</td>\n",
       "    </tr>\n",
       "    <tr>\n",
       "      <th>33500</th>\n",
       "      <td>1430.0</td>\n",
       "      <td>2.0</td>\n",
       "      <td>3.0</td>\n",
       "      <td>1924.0</td>\n",
       "      <td>1</td>\n",
       "      <td>0</td>\n",
       "      <td>0</td>\n",
       "    </tr>\n",
       "    <tr>\n",
       "      <th>38701</th>\n",
       "      <td>2859.0</td>\n",
       "      <td>3.0</td>\n",
       "      <td>4.0</td>\n",
       "      <td>2004.0</td>\n",
       "      <td>1</td>\n",
       "      <td>0</td>\n",
       "      <td>0</td>\n",
       "    </tr>\n",
       "    <tr>\n",
       "      <th>31888</th>\n",
       "      <td>1501.0</td>\n",
       "      <td>2.0</td>\n",
       "      <td>3.0</td>\n",
       "      <td>1930.0</td>\n",
       "      <td>1</td>\n",
       "      <td>0</td>\n",
       "      <td>0</td>\n",
       "    </tr>\n",
       "    <tr>\n",
       "      <th>13279</th>\n",
       "      <td>1680.0</td>\n",
       "      <td>2.0</td>\n",
       "      <td>3.0</td>\n",
       "      <td>1972.0</td>\n",
       "      <td>1</td>\n",
       "      <td>1</td>\n",
       "      <td>0</td>\n",
       "    </tr>\n",
       "    <tr>\n",
       "      <th>...</th>\n",
       "      <td>...</td>\n",
       "      <td>...</td>\n",
       "      <td>...</td>\n",
       "      <td>...</td>\n",
       "      <td>...</td>\n",
       "      <td>...</td>\n",
       "      <td>...</td>\n",
       "    </tr>\n",
       "    <tr>\n",
       "      <th>27772</th>\n",
       "      <td>1554.0</td>\n",
       "      <td>2.0</td>\n",
       "      <td>3.0</td>\n",
       "      <td>1986.0</td>\n",
       "      <td>1</td>\n",
       "      <td>0</td>\n",
       "      <td>0</td>\n",
       "    </tr>\n",
       "    <tr>\n",
       "      <th>49310</th>\n",
       "      <td>1282.0</td>\n",
       "      <td>2.0</td>\n",
       "      <td>4.0</td>\n",
       "      <td>1971.0</td>\n",
       "      <td>1</td>\n",
       "      <td>0</td>\n",
       "      <td>0</td>\n",
       "    </tr>\n",
       "    <tr>\n",
       "      <th>33258</th>\n",
       "      <td>1219.0</td>\n",
       "      <td>2.0</td>\n",
       "      <td>3.0</td>\n",
       "      <td>1953.0</td>\n",
       "      <td>1</td>\n",
       "      <td>0</td>\n",
       "      <td>0</td>\n",
       "    </tr>\n",
       "    <tr>\n",
       "      <th>9656</th>\n",
       "      <td>1975.0</td>\n",
       "      <td>2.0</td>\n",
       "      <td>4.0</td>\n",
       "      <td>1941.0</td>\n",
       "      <td>1</td>\n",
       "      <td>0</td>\n",
       "      <td>0</td>\n",
       "    </tr>\n",
       "    <tr>\n",
       "      <th>3176</th>\n",
       "      <td>3212.0</td>\n",
       "      <td>4.0</td>\n",
       "      <td>3.0</td>\n",
       "      <td>2009.0</td>\n",
       "      <td>1</td>\n",
       "      <td>1</td>\n",
       "      <td>0</td>\n",
       "    </tr>\n",
       "  </tbody>\n",
       "</table>\n",
       "<p>29526 rows × 7 columns</p>\n",
       "</div>"
      ],
      "text/plain": [
       "       area_sqft  bathrooms  bedroom    year  full_bath  orange  ventura\n",
       "28627     1624.0        2.0      2.0  1971.0          1       1        0\n",
       "33500     1430.0        2.0      3.0  1924.0          1       0        0\n",
       "38701     2859.0        3.0      4.0  2004.0          1       0        0\n",
       "31888     1501.0        2.0      3.0  1930.0          1       0        0\n",
       "13279     1680.0        2.0      3.0  1972.0          1       1        0\n",
       "...          ...        ...      ...     ...        ...     ...      ...\n",
       "27772     1554.0        2.0      3.0  1986.0          1       0        0\n",
       "49310     1282.0        2.0      4.0  1971.0          1       0        0\n",
       "33258     1219.0        2.0      3.0  1953.0          1       0        0\n",
       "9656      1975.0        2.0      4.0  1941.0          1       0        0\n",
       "3176      3212.0        4.0      3.0  2009.0          1       1        0\n",
       "\n",
       "[29526 rows x 7 columns]"
      ]
     },
     "execution_count": 11,
     "metadata": {},
     "output_type": "execute_result"
    }
   ],
   "source": [
    "x_train"
   ]
  },
  {
   "cell_type": "markdown",
   "id": "c1d8f77b",
   "metadata": {},
   "source": [
    "# scale data "
   ]
  },
  {
   "cell_type": "code",
   "execution_count": 12,
   "id": "85c8adea",
   "metadata": {},
   "outputs": [],
   "source": [
    "# scale the x \n",
    "x_train_scaled, x_validate_scaled, x_test_scaled = w.mm_scale(x_train, x_validate, x_test)"
   ]
  },
  {
   "cell_type": "code",
   "execution_count": 13,
   "id": "dc613a89",
   "metadata": {},
   "outputs": [],
   "source": [
    "# feature engineerin KBest "
   ]
  },
  {
   "cell_type": "code",
   "execution_count": 14,
   "id": "2bc658cf",
   "metadata": {},
   "outputs": [
    {
     "data": {
      "text/plain": [
       "Index(['area_sqft', 'bathrooms', 'bedroom', 'year', 'full_bath', 'orange'], dtype='object')"
      ]
     },
     "execution_count": 14,
     "metadata": {},
     "output_type": "execute_result"
    }
   ],
   "source": [
    "m.select_kbest(x_train_scaled, y_train, 6)"
   ]
  },
  {
   "cell_type": "code",
   "execution_count": 15,
   "id": "c75df5df",
   "metadata": {},
   "outputs": [
    {
     "ename": "NameError",
     "evalue": "name 'y_train1' is not defined",
     "output_type": "error",
     "traceback": [
      "\u001b[0;31m---------------------------------------------------------------------------\u001b[0m",
      "\u001b[0;31mNameError\u001b[0m                                 Traceback (most recent call last)",
      "\u001b[0;32m/var/folders/bf/lhpb5n_j1xj4msxy6nrm9h7h0000gn/T/ipykernel_9719/1578563756.py\u001b[0m in \u001b[0;36m<module>\u001b[0;34m\u001b[0m\n\u001b[0;32m----> 1\u001b[0;31m \u001b[0mm\u001b[0m\u001b[0;34m.\u001b[0m\u001b[0mselect_kbest\u001b[0m\u001b[0;34m(\u001b[0m\u001b[0mx_train_scaled\u001b[0m\u001b[0;34m,\u001b[0m \u001b[0my_train1\u001b[0m\u001b[0;34m,\u001b[0m \u001b[0;34m)\u001b[0m\u001b[0;34m\u001b[0m\u001b[0;34m\u001b[0m\u001b[0m\n\u001b[0m",
      "\u001b[0;31mNameError\u001b[0m: name 'y_train1' is not defined"
     ]
    }
   ],
   "source": [
    "m.select_kbest(x_train_scaled, y_train1, )"
   ]
  },
  {
   "cell_type": "code",
   "execution_count": 49,
   "id": "fbc0f049",
   "metadata": {},
   "outputs": [
    {
     "data": {
      "text/plain": [
       "(['area_sqft', 'bathrooms', 'bedroom', 'year', 'full_bath', 'orange'],\n",
       "            rfe_ranking\n",
       " area_sqft            1\n",
       " bathrooms            1\n",
       " bedroom              1\n",
       " year                 1\n",
       " full_bath            1\n",
       " orange               1\n",
       " ventura              2)"
      ]
     },
     "execution_count": 49,
     "metadata": {},
     "output_type": "execute_result"
    }
   ],
   "source": [
    "# Rfe\n",
    "m.rfe(x_train_scaled,y_train, k=6)"
   ]
  },
  {
   "cell_type": "code",
   "execution_count": 50,
   "id": "d2426571",
   "metadata": {},
   "outputs": [
    {
     "data": {
      "text/plain": [
       "(['area_sqft', 'bathrooms', 'bedroom', 'year'],\n",
       "            rfe_ranking\n",
       " area_sqft            1\n",
       " bathrooms            1\n",
       " bedroom              1\n",
       " year                 1\n",
       " orange               2\n",
       " full_bath            3\n",
       " ventura              4)"
      ]
     },
     "execution_count": 50,
     "metadata": {},
     "output_type": "execute_result"
    }
   ],
   "source": [
    "m.rfe(x_train_scaled,y_train, k=4)"
   ]
  },
  {
   "cell_type": "code",
   "execution_count": 51,
   "id": "fac685db",
   "metadata": {},
   "outputs": [],
   "source": [
    "def get_baseline(y_train):\n",
    "    x_train_scaled[\"yhat_baseline\"] = y_train.mean()\n",
    "    return df"
   ]
  },
  {
   "cell_type": "code",
   "execution_count": 90,
   "id": "6b17618f",
   "metadata": {},
   "outputs": [
    {
     "data": {
      "text/plain": [
       "420932.4995597101"
      ]
     },
     "execution_count": 90,
     "metadata": {},
     "output_type": "execute_result"
    }
   ],
   "source": [
    "# create baseline\n",
    "baseline = y_train.mean()\n",
    "baseline"
   ]
  },
  {
   "cell_type": "code",
   "execution_count": 91,
   "id": "febaff1a",
   "metadata": {},
   "outputs": [
    {
     "data": {
      "text/plain": [
       "array([420932.49955971, 420932.49955971, 420932.49955971, 420932.49955971,\n",
       "       420932.49955971])"
      ]
     },
     "execution_count": 91,
     "metadata": {},
     "output_type": "execute_result"
    }
   ],
   "source": [
    "baseline_array = np.repeat(baseline, len(train))\n",
    "baseline_array[:5]"
   ]
  },
  {
   "cell_type": "code",
   "execution_count": 92,
   "id": "833a6920",
   "metadata": {},
   "outputs": [
    {
     "data": {
      "text/plain": [
       "(320706.78325261164, 0.0)"
      ]
     },
     "execution_count": 92,
     "metadata": {},
     "output_type": "execute_result"
    }
   ],
   "source": [
    "rmse, r2 = m.metrics_reg(y_train, baseline_array)\n",
    "rmse, r2"
   ]
  },
  {
   "cell_type": "code",
   "execution_count": 93,
   "id": "c6f74024",
   "metadata": {},
   "outputs": [
    {
     "data": {
      "text/html": [
       "<div>\n",
       "<style scoped>\n",
       "    .dataframe tbody tr th:only-of-type {\n",
       "        vertical-align: middle;\n",
       "    }\n",
       "\n",
       "    .dataframe tbody tr th {\n",
       "        vertical-align: top;\n",
       "    }\n",
       "\n",
       "    .dataframe thead th {\n",
       "        text-align: right;\n",
       "    }\n",
       "</style>\n",
       "<table border=\"1\" class=\"dataframe\">\n",
       "  <thead>\n",
       "    <tr style=\"text-align: right;\">\n",
       "      <th></th>\n",
       "      <th>model</th>\n",
       "      <th>rmse</th>\n",
       "      <th>r2</th>\n",
       "    </tr>\n",
       "  </thead>\n",
       "  <tbody>\n",
       "    <tr>\n",
       "      <th>0</th>\n",
       "      <td>baseline</td>\n",
       "      <td>320706.783253</td>\n",
       "      <td>0.0</td>\n",
       "    </tr>\n",
       "  </tbody>\n",
       "</table>\n",
       "</div>"
      ],
      "text/plain": [
       "      model           rmse   r2\n",
       "0  baseline  320706.783253  0.0"
      ]
     },
     "execution_count": 93,
     "metadata": {},
     "output_type": "execute_result"
    }
   ],
   "source": [
    "metrics_df = pd.DataFrame(data=[\n",
    "    {\n",
    "        'model':'baseline',\n",
    "        'rmse':rmse,\n",
    "        'r2':r2\n",
    "    }\n",
    "    \n",
    "])\n",
    "metrics_df"
   ]
  },
  {
   "cell_type": "markdown",
   "id": "d62d5523",
   "metadata": {},
   "source": [
    "# OLS "
   ]
  },
  {
   "cell_type": "code",
   "execution_count": 94,
   "id": "03852e7d",
   "metadata": {},
   "outputs": [],
   "source": [
    "#intial ML model\n",
    "lr1 = LinearRegression()\n",
    "\n",
    "#make it\n",
    "rfe = RFE(lr1, n_features_to_select=4)\n",
    "\n",
    "#fit it\n",
    "rfe.fit(x_train_scaled, y_train)\n",
    "\n",
    "#use it on train\n",
    "x_train_rfe1 = rfe.transform(x_train_scaled)\n",
    "\n",
    "# #use it on validate\n",
    "x_val_rfe1 = rfe.transform(x_validate_scaled)"
   ]
  },
  {
   "cell_type": "code",
   "execution_count": 95,
   "id": "86fbc7a9",
   "metadata": {},
   "outputs": [],
   "source": [
    "#intial ML model\n",
    "lr1 = LinearRegression()\n",
    "\n",
    "#make it\n",
    "rfe = RFE(lr1, n_features_to_select=3)\n",
    "\n",
    "#fit it\n",
    "rfe.fit(x_train_scaled, y_train)\n",
    "\n",
    "#use it on train\n",
    "x_train_rfe = rfe.transform(x_train_scaled)\n",
    "\n",
    "# #use it on validate\n",
    "x_val_rfe = rfe.transform(x_validate_scaled)"
   ]
  },
  {
   "cell_type": "code",
   "execution_count": 96,
   "id": "6e513385",
   "metadata": {},
   "outputs": [
    {
     "name": "stdout",
     "output_type": "stream",
     "text": [
      "selected top feature: ['area_sqft' 'bathrooms' 'bedroom']\n"
     ]
    }
   ],
   "source": [
    "print('selected top feature:', rfe.get_feature_names_out())"
   ]
  },
  {
   "cell_type": "code",
   "execution_count": 97,
   "id": "2075d58b",
   "metadata": {},
   "outputs": [],
   "source": [
    "#fit the thing\n",
    "lr1.fit(x_train_rfe, y_train)\n",
    "\n",
    "#use the thing (make predictions)\n",
    "pred_lr1 = lr1.predict(x_train_rfe)\n",
    "pred_val_lr1 = lr1.predict(x_val_rfe)"
   ]
  },
  {
   "cell_type": "code",
   "execution_count": 98,
   "id": "462fb657",
   "metadata": {},
   "outputs": [
    {
     "data": {
      "text/plain": [
       "(269571.42245951685, 0.29346869542447607)"
      ]
     },
     "execution_count": 98,
     "metadata": {},
     "output_type": "execute_result"
    }
   ],
   "source": [
    "#train\n",
    "m.metrics_reg(y_train, pred_lr1)\n"
   ]
  },
  {
   "cell_type": "code",
   "execution_count": 99,
   "id": "ea091610",
   "metadata": {},
   "outputs": [
    {
     "data": {
      "text/plain": [
       "(270118.8954353681, 0.29467129023715855)"
      ]
     },
     "execution_count": 99,
     "metadata": {},
     "output_type": "execute_result"
    }
   ],
   "source": [
    "#validate\n",
    "rmse, r2 = m.metrics_reg(y_validate, pred_val_lr1)\n",
    "rmse, r2"
   ]
  },
  {
   "cell_type": "code",
   "execution_count": 100,
   "id": "0dc43634",
   "metadata": {},
   "outputs": [
    {
     "data": {
      "text/html": [
       "<div>\n",
       "<style scoped>\n",
       "    .dataframe tbody tr th:only-of-type {\n",
       "        vertical-align: middle;\n",
       "    }\n",
       "\n",
       "    .dataframe tbody tr th {\n",
       "        vertical-align: top;\n",
       "    }\n",
       "\n",
       "    .dataframe thead th {\n",
       "        text-align: right;\n",
       "    }\n",
       "</style>\n",
       "<table border=\"1\" class=\"dataframe\">\n",
       "  <thead>\n",
       "    <tr style=\"text-align: right;\">\n",
       "      <th></th>\n",
       "      <th>model</th>\n",
       "      <th>rmse</th>\n",
       "      <th>r2</th>\n",
       "    </tr>\n",
       "  </thead>\n",
       "  <tbody>\n",
       "    <tr>\n",
       "      <th>0</th>\n",
       "      <td>baseline</td>\n",
       "      <td>320706.783253</td>\n",
       "      <td>0.000000</td>\n",
       "    </tr>\n",
       "    <tr>\n",
       "      <th>1</th>\n",
       "      <td>ols_1</td>\n",
       "      <td>270118.895435</td>\n",
       "      <td>0.294671</td>\n",
       "    </tr>\n",
       "  </tbody>\n",
       "</table>\n",
       "</div>"
      ],
      "text/plain": [
       "      model           rmse        r2\n",
       "0  baseline  320706.783253  0.000000\n",
       "1     ols_1  270118.895435  0.294671"
      ]
     },
     "execution_count": 100,
     "metadata": {},
     "output_type": "execute_result"
    }
   ],
   "source": [
    "#add to my metrics df\n",
    "metrics_df.loc[1] = ['ols_1', rmse, r2]\n",
    "metrics_df"
   ]
  },
  {
   "cell_type": "code",
   "execution_count": 101,
   "id": "144089f2",
   "metadata": {},
   "outputs": [],
   "source": [
    "#make it\n",
    "lr2 = LinearRegression()\n",
    "\n",
    "#fit it on our RFE features\n",
    "lr2.fit(x_train_scaled, y_train)\n",
    "\n",
    "#use it (make predictions)\n",
    "pred_lr2 = lr2.predict(x_train_scaled)\n",
    "\n",
    "#use it on validate\n",
    "pred_val_lr2 = lr2.predict(x_validate_scaled)"
   ]
  },
  {
   "cell_type": "code",
   "execution_count": 102,
   "id": "0a11ae7c",
   "metadata": {},
   "outputs": [
    {
     "data": {
      "text/plain": [
       "(267411.66104258597, 0.30474456623172264)"
      ]
     },
     "execution_count": 102,
     "metadata": {},
     "output_type": "execute_result"
    }
   ],
   "source": [
    "m.metrics_reg(y_train, pred_lr2)"
   ]
  },
  {
   "cell_type": "code",
   "execution_count": 103,
   "id": "975022fa",
   "metadata": {},
   "outputs": [
    {
     "data": {
      "text/plain": [
       "(267539.6325106283, 0.308076813962438)"
      ]
     },
     "execution_count": 103,
     "metadata": {},
     "output_type": "execute_result"
    }
   ],
   "source": [
    "# validate\n",
    "rmse, r2 = m.metrics_reg(y_validate, pred_val_lr2)\n",
    "rmse, r2"
   ]
  },
  {
   "cell_type": "code",
   "execution_count": 104,
   "id": "6f0b2597",
   "metadata": {},
   "outputs": [
    {
     "data": {
      "text/html": [
       "<div>\n",
       "<style scoped>\n",
       "    .dataframe tbody tr th:only-of-type {\n",
       "        vertical-align: middle;\n",
       "    }\n",
       "\n",
       "    .dataframe tbody tr th {\n",
       "        vertical-align: top;\n",
       "    }\n",
       "\n",
       "    .dataframe thead th {\n",
       "        text-align: right;\n",
       "    }\n",
       "</style>\n",
       "<table border=\"1\" class=\"dataframe\">\n",
       "  <thead>\n",
       "    <tr style=\"text-align: right;\">\n",
       "      <th></th>\n",
       "      <th>model</th>\n",
       "      <th>rmse</th>\n",
       "      <th>r2</th>\n",
       "    </tr>\n",
       "  </thead>\n",
       "  <tbody>\n",
       "    <tr>\n",
       "      <th>0</th>\n",
       "      <td>baseline</td>\n",
       "      <td>320706.783253</td>\n",
       "      <td>0.000000</td>\n",
       "    </tr>\n",
       "    <tr>\n",
       "      <th>1</th>\n",
       "      <td>ols_1</td>\n",
       "      <td>270118.895435</td>\n",
       "      <td>0.294671</td>\n",
       "    </tr>\n",
       "    <tr>\n",
       "      <th>2</th>\n",
       "      <td>ols</td>\n",
       "      <td>267539.632511</td>\n",
       "      <td>0.308077</td>\n",
       "    </tr>\n",
       "  </tbody>\n",
       "</table>\n",
       "</div>"
      ],
      "text/plain": [
       "      model           rmse        r2\n",
       "0  baseline  320706.783253  0.000000\n",
       "1     ols_1  270118.895435  0.294671\n",
       "2       ols  267539.632511  0.308077"
      ]
     },
     "execution_count": 104,
     "metadata": {},
     "output_type": "execute_result"
    }
   ],
   "source": [
    "metrics_df.loc[2] = ['ols', rmse, r2]\n",
    "metrics_df"
   ]
  },
  {
   "cell_type": "markdown",
   "id": "6d4710fb",
   "metadata": {},
   "source": [
    "# Model LassoLars"
   ]
  },
  {
   "cell_type": "code",
   "execution_count": 105,
   "id": "86fbef98",
   "metadata": {},
   "outputs": [],
   "source": [
    "#make it\n",
    "lars = LassoLars(alpha=1)\n",
    "\n",
    "#fit it\n",
    "lars.fit(x_train_scaled, y_train)\n",
    "\n",
    "#use it\n",
    "pred_lars = lars.predict(x_train_scaled)\n",
    "pred_val_lars = lars.predict(x_validate_scaled)"
   ]
  },
  {
   "cell_type": "code",
   "execution_count": 106,
   "id": "52ec5810",
   "metadata": {},
   "outputs": [
    {
     "data": {
      "text/plain": [
       "area_sqft    1.078071e+06\n",
       "bathrooms    2.542960e+05\n",
       "bedroom     -2.449655e+05\n",
       "year        -1.598991e+05\n",
       "full_bath   -3.703424e+04\n",
       "orange       5.732662e+04\n",
       "ventura      2.622755e+04\n",
       "dtype: float64"
      ]
     },
     "execution_count": 106,
     "metadata": {},
     "output_type": "execute_result"
    }
   ],
   "source": [
    "pd.Series(lars.coef_, index=lars.feature_names_in_)"
   ]
  },
  {
   "cell_type": "code",
   "execution_count": 107,
   "id": "9959a674",
   "metadata": {},
   "outputs": [
    {
     "data": {
      "text/plain": [
       "array([1079857.67257744,  256882.81203196, -247310.34304631,\n",
       "       -162807.50274658,  -37208.01078916,   57992.99012846,\n",
       "         27307.02692092])"
      ]
     },
     "execution_count": 107,
     "metadata": {},
     "output_type": "execute_result"
    }
   ],
   "source": [
    "lr2.coef_"
   ]
  },
  {
   "cell_type": "code",
   "execution_count": 108,
   "id": "dc34d0e4",
   "metadata": {},
   "outputs": [
    {
     "data": {
      "text/plain": [
       "(267412.4407583894, 0.3047405117904366)"
      ]
     },
     "execution_count": 108,
     "metadata": {},
     "output_type": "execute_result"
    }
   ],
   "source": [
    "#train\n",
    "m.metrics_reg(y_train, pred_lars)"
   ]
  },
  {
   "cell_type": "code",
   "execution_count": 109,
   "id": "129cdd42",
   "metadata": {},
   "outputs": [
    {
     "data": {
      "text/plain": [
       "(267559.4353395876, 0.3079743802147481)"
      ]
     },
     "execution_count": 109,
     "metadata": {},
     "output_type": "execute_result"
    }
   ],
   "source": [
    "#validate\n",
    "rmse, r2 = m.metrics_reg(y_validate, pred_val_lars)\n",
    "rmse, r2"
   ]
  },
  {
   "cell_type": "code",
   "execution_count": 110,
   "id": "c19e43e0",
   "metadata": {},
   "outputs": [
    {
     "data": {
      "text/html": [
       "<div>\n",
       "<style scoped>\n",
       "    .dataframe tbody tr th:only-of-type {\n",
       "        vertical-align: middle;\n",
       "    }\n",
       "\n",
       "    .dataframe tbody tr th {\n",
       "        vertical-align: top;\n",
       "    }\n",
       "\n",
       "    .dataframe thead th {\n",
       "        text-align: right;\n",
       "    }\n",
       "</style>\n",
       "<table border=\"1\" class=\"dataframe\">\n",
       "  <thead>\n",
       "    <tr style=\"text-align: right;\">\n",
       "      <th></th>\n",
       "      <th>model</th>\n",
       "      <th>rmse</th>\n",
       "      <th>r2</th>\n",
       "    </tr>\n",
       "  </thead>\n",
       "  <tbody>\n",
       "    <tr>\n",
       "      <th>0</th>\n",
       "      <td>baseline</td>\n",
       "      <td>320706.783253</td>\n",
       "      <td>0.000000</td>\n",
       "    </tr>\n",
       "    <tr>\n",
       "      <th>1</th>\n",
       "      <td>ols_1</td>\n",
       "      <td>270118.895435</td>\n",
       "      <td>0.294671</td>\n",
       "    </tr>\n",
       "    <tr>\n",
       "      <th>2</th>\n",
       "      <td>ols</td>\n",
       "      <td>267539.632511</td>\n",
       "      <td>0.308077</td>\n",
       "    </tr>\n",
       "    <tr>\n",
       "      <th>3</th>\n",
       "      <td>lars</td>\n",
       "      <td>267559.435340</td>\n",
       "      <td>0.307974</td>\n",
       "    </tr>\n",
       "  </tbody>\n",
       "</table>\n",
       "</div>"
      ],
      "text/plain": [
       "      model           rmse        r2\n",
       "0  baseline  320706.783253  0.000000\n",
       "1     ols_1  270118.895435  0.294671\n",
       "2       ols  267539.632511  0.308077\n",
       "3      lars  267559.435340  0.307974"
      ]
     },
     "execution_count": 110,
     "metadata": {},
     "output_type": "execute_result"
    }
   ],
   "source": [
    "#add to my metrics df\n",
    "metrics_df.loc[3] = ['lars', rmse, r2]\n",
    "metrics_df"
   ]
  },
  {
   "cell_type": "markdown",
   "id": "f4577fbe",
   "metadata": {},
   "source": [
    "# Poly"
   ]
  },
  {
   "cell_type": "code",
   "execution_count": 111,
   "id": "2e6283c8",
   "metadata": {},
   "outputs": [],
   "source": [
    "# make the polynomial features to get a new set of features\n",
    "pf = PolynomialFeatures(degree=3)\n",
    "\n",
    "# fit and transform X_train_scaled\n",
    "x_train_degree2 = pf.fit_transform(x_train_scaled)\n",
    "\n",
    "# transform X_validate_scaled & X_test_scaled\n",
    "x_validate_degree2 = pf.transform(x_validate_scaled)\n",
    "x_test_degree2 = pf.transform(x_test_scaled)"
   ]
  },
  {
   "cell_type": "code",
   "execution_count": 112,
   "id": "4c979508",
   "metadata": {},
   "outputs": [],
   "source": [
    "#make it\n",
    "pr = LinearRegression()\n",
    "\n",
    "#fit it\n",
    "pr.fit(x_train_degree2, y_train)\n",
    "\n",
    "#use it\n",
    "pred_pr = pr.predict(x_train_degree2)\n",
    "pred_val_pr = pr.predict(x_validate_degree2)\n"
   ]
  },
  {
   "cell_type": "code",
   "execution_count": 113,
   "id": "1449c50d",
   "metadata": {},
   "outputs": [
    {
     "data": {
      "text/plain": [
       "(259185.7770056417, 0.34686036415060617)"
      ]
     },
     "execution_count": 113,
     "metadata": {},
     "output_type": "execute_result"
    }
   ],
   "source": [
    "#train\n",
    "m.metrics_reg(y_train, pred_pr)"
   ]
  },
  {
   "cell_type": "code",
   "execution_count": 114,
   "id": "8ed635dc",
   "metadata": {},
   "outputs": [
    {
     "data": {
      "text/plain": [
       "(260538.39283914387, 0.3438168241734928)"
      ]
     },
     "execution_count": 114,
     "metadata": {},
     "output_type": "execute_result"
    }
   ],
   "source": [
    "#validate\n",
    "rmse, r2 = m.metrics_reg(y_validate, pred_val_pr)\n",
    "rmse, r2"
   ]
  },
  {
   "cell_type": "code",
   "execution_count": 115,
   "id": "f9faf320",
   "metadata": {},
   "outputs": [
    {
     "data": {
      "text/html": [
       "<div>\n",
       "<style scoped>\n",
       "    .dataframe tbody tr th:only-of-type {\n",
       "        vertical-align: middle;\n",
       "    }\n",
       "\n",
       "    .dataframe tbody tr th {\n",
       "        vertical-align: top;\n",
       "    }\n",
       "\n",
       "    .dataframe thead th {\n",
       "        text-align: right;\n",
       "    }\n",
       "</style>\n",
       "<table border=\"1\" class=\"dataframe\">\n",
       "  <thead>\n",
       "    <tr style=\"text-align: right;\">\n",
       "      <th></th>\n",
       "      <th>model</th>\n",
       "      <th>rmse</th>\n",
       "      <th>r2</th>\n",
       "    </tr>\n",
       "  </thead>\n",
       "  <tbody>\n",
       "    <tr>\n",
       "      <th>0</th>\n",
       "      <td>baseline</td>\n",
       "      <td>320706.783253</td>\n",
       "      <td>0.000000</td>\n",
       "    </tr>\n",
       "    <tr>\n",
       "      <th>1</th>\n",
       "      <td>ols_1</td>\n",
       "      <td>270118.895435</td>\n",
       "      <td>0.294671</td>\n",
       "    </tr>\n",
       "    <tr>\n",
       "      <th>2</th>\n",
       "      <td>ols</td>\n",
       "      <td>267539.632511</td>\n",
       "      <td>0.308077</td>\n",
       "    </tr>\n",
       "    <tr>\n",
       "      <th>3</th>\n",
       "      <td>lars</td>\n",
       "      <td>267559.435340</td>\n",
       "      <td>0.307974</td>\n",
       "    </tr>\n",
       "    <tr>\n",
       "      <th>4</th>\n",
       "      <td>poly_2</td>\n",
       "      <td>260538.392839</td>\n",
       "      <td>0.343817</td>\n",
       "    </tr>\n",
       "  </tbody>\n",
       "</table>\n",
       "</div>"
      ],
      "text/plain": [
       "      model           rmse        r2\n",
       "0  baseline  320706.783253  0.000000\n",
       "1     ols_1  270118.895435  0.294671\n",
       "2       ols  267539.632511  0.308077\n",
       "3      lars  267559.435340  0.307974\n",
       "4    poly_2  260538.392839  0.343817"
      ]
     },
     "execution_count": 115,
     "metadata": {},
     "output_type": "execute_result"
    }
   ],
   "source": [
    "#add to my metrics df\n",
    "metrics_df.loc[4] = ['poly_2', rmse, r2]\n",
    "metrics_df"
   ]
  },
  {
   "cell_type": "markdown",
   "id": "aa7e828a",
   "metadata": {},
   "source": [
    "# GLM"
   ]
  },
  {
   "cell_type": "code",
   "execution_count": 116,
   "id": "e8668fa8",
   "metadata": {},
   "outputs": [],
   "source": [
    "#make it\n",
    "glm = TweedieRegressor(power=0, alpha=0)\n",
    "\n",
    "#fit it\n",
    "glm.fit(x_train_scaled, y_train)\n",
    "\n",
    "#use it\n",
    "pred_glm = glm.predict(x_train_scaled)\n",
    "pred_val_glm = glm.predict(x_validate_scaled)"
   ]
  },
  {
   "cell_type": "code",
   "execution_count": 117,
   "id": "8286fd51",
   "metadata": {},
   "outputs": [
    {
     "data": {
      "text/plain": [
       "(267411.6610425867, 0.30474456623171886)"
      ]
     },
     "execution_count": 117,
     "metadata": {},
     "output_type": "execute_result"
    }
   ],
   "source": [
    "#train\n",
    "m.metrics_reg(y_train, pred_glm)"
   ]
  },
  {
   "cell_type": "code",
   "execution_count": 118,
   "id": "57b941e3",
   "metadata": {},
   "outputs": [
    {
     "data": {
      "text/plain": [
       "(267539.63289964997, 0.30807681195022696)"
      ]
     },
     "execution_count": 118,
     "metadata": {},
     "output_type": "execute_result"
    }
   ],
   "source": [
    "#validate\n",
    "rmse, r2 = m.metrics_reg(y_validate, pred_val_glm)\n",
    "rmse, r2"
   ]
  },
  {
   "cell_type": "code",
   "execution_count": 119,
   "id": "d35528e7",
   "metadata": {},
   "outputs": [
    {
     "data": {
      "text/html": [
       "<div>\n",
       "<style scoped>\n",
       "    .dataframe tbody tr th:only-of-type {\n",
       "        vertical-align: middle;\n",
       "    }\n",
       "\n",
       "    .dataframe tbody tr th {\n",
       "        vertical-align: top;\n",
       "    }\n",
       "\n",
       "    .dataframe thead th {\n",
       "        text-align: right;\n",
       "    }\n",
       "</style>\n",
       "<table border=\"1\" class=\"dataframe\">\n",
       "  <thead>\n",
       "    <tr style=\"text-align: right;\">\n",
       "      <th></th>\n",
       "      <th>model</th>\n",
       "      <th>rmse</th>\n",
       "      <th>r2</th>\n",
       "    </tr>\n",
       "  </thead>\n",
       "  <tbody>\n",
       "    <tr>\n",
       "      <th>0</th>\n",
       "      <td>baseline</td>\n",
       "      <td>320706.783253</td>\n",
       "      <td>0.000000</td>\n",
       "    </tr>\n",
       "    <tr>\n",
       "      <th>1</th>\n",
       "      <td>ols_1</td>\n",
       "      <td>270118.895435</td>\n",
       "      <td>0.294671</td>\n",
       "    </tr>\n",
       "    <tr>\n",
       "      <th>2</th>\n",
       "      <td>ols</td>\n",
       "      <td>267539.632511</td>\n",
       "      <td>0.308077</td>\n",
       "    </tr>\n",
       "    <tr>\n",
       "      <th>3</th>\n",
       "      <td>lars</td>\n",
       "      <td>267559.435340</td>\n",
       "      <td>0.307974</td>\n",
       "    </tr>\n",
       "    <tr>\n",
       "      <th>4</th>\n",
       "      <td>poly_2</td>\n",
       "      <td>260538.392839</td>\n",
       "      <td>0.343817</td>\n",
       "    </tr>\n",
       "    <tr>\n",
       "      <th>5</th>\n",
       "      <td>glm</td>\n",
       "      <td>267539.632900</td>\n",
       "      <td>0.308077</td>\n",
       "    </tr>\n",
       "  </tbody>\n",
       "</table>\n",
       "</div>"
      ],
      "text/plain": [
       "      model           rmse        r2\n",
       "0  baseline  320706.783253  0.000000\n",
       "1     ols_1  270118.895435  0.294671\n",
       "2       ols  267539.632511  0.308077\n",
       "3      lars  267559.435340  0.307974\n",
       "4    poly_2  260538.392839  0.343817\n",
       "5       glm  267539.632900  0.308077"
      ]
     },
     "execution_count": 119,
     "metadata": {},
     "output_type": "execute_result"
    }
   ],
   "source": [
    "metrics_df.loc[5] = ['glm',rmse,r2]\n",
    "metrics_df"
   ]
  },
  {
   "cell_type": "markdown",
   "id": "1167d1d5",
   "metadata": {},
   "source": [
    "# Evaluate on best model"
   ]
  },
  {
   "cell_type": "code",
   "execution_count": 120,
   "id": "bf03a3e4",
   "metadata": {},
   "outputs": [
    {
     "data": {
      "text/plain": [
       "array([710456.875  , 748657.125  , 393804.125  , ..., 554579.0625 ,\n",
       "       334001.53125, 458171.3125 ])"
      ]
     },
     "execution_count": 120,
     "metadata": {},
     "output_type": "execute_result"
    }
   ],
   "source": [
    "#use it\n",
    "pred_test = pr.predict(x_test_degree2)\n",
    "pred_test"
   ]
  },
  {
   "cell_type": "code",
   "execution_count": 121,
   "id": "c9559257",
   "metadata": {},
   "outputs": [
    {
     "data": {
      "text/plain": [
       "(265829.59361405007, 0.3574821883876885)"
      ]
     },
     "execution_count": 121,
     "metadata": {},
     "output_type": "execute_result"
    }
   ],
   "source": [
    "rmse, r2 = m.metrics_reg(y_test, pred_test)\n",
    "rmse, r2 "
   ]
  },
  {
   "cell_type": "code",
   "execution_count": 122,
   "id": "e0eff97e",
   "metadata": {},
   "outputs": [
    {
     "data": {
      "image/png": "[encoded data removed]",
      "text/plain": [
       "<Figure size 640x480 with 1 Axes>"
      ]
     },
     "metadata": {},
     "output_type": "display_data"
    }
   ],
   "source": [
    "plt.scatter(pred_lr2, y_train, label='linear regression')\n",
    "plt.scatter(pred_pr, y_train, label='polynominal 2deg')\n",
    "plt.scatter(pred_glm, y_train, label='glm')\n",
    "plt.plot(y_train, y_train, label='_nolegend_', color='grey')\n",
    "\n",
    "plt.axhline(baseline, ls=':', color='grey')\n",
    "plt.annotate(\"Baseline\", (65, 81))\n",
    "\n",
    "plt.title(\"Where are predictions more extreme? More modest?\")\n",
    "plt.ylabel(\"Actual Final Grade\")\n",
    "plt.xlabel(\"Predicted Final Grade\")\n",
    "plt.legend()\n",
    "\n",
    "plt.show()"
   ]
  },
  {
   "cell_type": "code",
   "execution_count": 123,
   "id": "9aaa7758",
   "metadata": {},
   "outputs": [
    {
     "data": {
      "text/html": [
       "<div>\n",
       "<style scoped>\n",
       "    .dataframe tbody tr th:only-of-type {\n",
       "        vertical-align: middle;\n",
       "    }\n",
       "\n",
       "    .dataframe tbody tr th {\n",
       "        vertical-align: top;\n",
       "    }\n",
       "\n",
       "    .dataframe thead th {\n",
       "        text-align: right;\n",
       "    }\n",
       "</style>\n",
       "<table border=\"1\" class=\"dataframe\">\n",
       "  <thead>\n",
       "    <tr style=\"text-align: right;\">\n",
       "      <th></th>\n",
       "      <th>model</th>\n",
       "      <th>rmse</th>\n",
       "      <th>r2</th>\n",
       "    </tr>\n",
       "  </thead>\n",
       "  <tbody>\n",
       "    <tr>\n",
       "      <th>0</th>\n",
       "      <td>baseline</td>\n",
       "      <td>320706.783253</td>\n",
       "      <td>0.000000</td>\n",
       "    </tr>\n",
       "    <tr>\n",
       "      <th>1</th>\n",
       "      <td>ols_1</td>\n",
       "      <td>270118.895435</td>\n",
       "      <td>0.294671</td>\n",
       "    </tr>\n",
       "    <tr>\n",
       "      <th>2</th>\n",
       "      <td>ols</td>\n",
       "      <td>267539.632511</td>\n",
       "      <td>0.308077</td>\n",
       "    </tr>\n",
       "    <tr>\n",
       "      <th>3</th>\n",
       "      <td>lars</td>\n",
       "      <td>267559.435340</td>\n",
       "      <td>0.307974</td>\n",
       "    </tr>\n",
       "    <tr>\n",
       "      <th>4</th>\n",
       "      <td>poly_2</td>\n",
       "      <td>260538.392839</td>\n",
       "      <td>0.343817</td>\n",
       "    </tr>\n",
       "    <tr>\n",
       "      <th>5</th>\n",
       "      <td>glm</td>\n",
       "      <td>267539.632900</td>\n",
       "      <td>0.308077</td>\n",
       "    </tr>\n",
       "    <tr>\n",
       "      <th>6</th>\n",
       "      <td>test</td>\n",
       "      <td>265829.593614</td>\n",
       "      <td>0.357482</td>\n",
       "    </tr>\n",
       "  </tbody>\n",
       "</table>\n",
       "</div>"
      ],
      "text/plain": [
       "      model           rmse        r2\n",
       "0  baseline  320706.783253  0.000000\n",
       "1     ols_1  270118.895435  0.294671\n",
       "2       ols  267539.632511  0.308077\n",
       "3      lars  267559.435340  0.307974\n",
       "4    poly_2  260538.392839  0.343817\n",
       "5       glm  267539.632900  0.308077\n",
       "6      test  265829.593614  0.357482"
      ]
     },
     "execution_count": 123,
     "metadata": {},
     "output_type": "execute_result"
    }
   ],
   "source": [
    "metrics_df.loc[6] = ['test',rmse,r2]\n",
    "metrics_df"
   ]
  },
  {
   "cell_type": "code",
   "execution_count": null,
   "id": "81d65358",
   "metadata": {},
   "outputs": [],
   "source": []
  },
  {
   "cell_type": "code",
   "execution_count": null,
   "id": "45e85466",
   "metadata": {},
   "outputs": [],
   "source": []
  },
  {
   "cell_type": "code",
   "execution_count": null,
   "id": "427cc3d6",
   "metadata": {},
   "outputs": [],
   "source": []
  },
  {
   "cell_type": "code",
   "execution_count": null,
   "id": "1a65c29e",
   "metadata": {},
   "outputs": [],
   "source": []
  },
  {
   "cell_type": "code",
   "execution_count": null,
   "id": "b19b596e",
   "metadata": {},
   "outputs": [],
   "source": []
  },
  {
   "cell_type": "code",
   "execution_count": null,
   "id": "482e5b2a",
   "metadata": {},
   "outputs": [],
   "source": []
  }
 ],
 "metadata": {
  "kernelspec": {
   "display_name": "Python 3 (ipykernel)",
   "language": "python",
   "name": "python3"
  },
  "language_info": {
   "codemirror_mode": {
    "name": "ipython",
    "version": 3
   },
   "file_extension": ".py",
   "mimetype": "text/x-python",
   "name": "python",
   "nbconvert_exporter": "python",
   "pygments_lexer": "ipython3",
   "version": "3.9.13"
  }
 },
 "nbformat": 4,
 "nbformat_minor": 5
}
