{
 "cells": [
  {
   "cell_type": "code",
   "execution_count": 1,
   "id": "0af44684",
   "metadata": {},
   "outputs": [],
   "source": [
    "import warnings\n",
    "warnings.filterwarnings('ignore')\n",
    "\n",
    "import pandas as pd\n",
    "import numpy as np\n",
    "\n",
    "\n",
    "import wrangle as w\n",
    "import explore as ex\n",
    "import model as m\n",
    "import evaluate as e\n",
    "\n",
    "import seaborn as sns\n",
    "import matplotlib.pyplot as plt\n",
    "from scipy import stats\n",
    "\n",
    "from sklearn.feature_selection import f_regression \n",
    "from math import sqrt\n",
    "\n",
    "#sklearn imports\n",
    "from sklearn.linear_model import LinearRegression, LassoLars, TweedieRegressor\n",
    "from sklearn.feature_selection import RFE, SelectKBest, f_regression\n",
    "from sklearn.preprocessing import MinMaxScaler, PolynomialFeatures\n",
    "from sklearn.model_selection import train_test_split\n",
    "from sklearn.metrics import mean_squared_error, r2_score, explained_variance_score\n",
    "from sklearn.metrics import r2_score"
   ]
  },
  {
   "cell_type": "markdown",
   "id": "3ed4e1d3",
   "metadata": {},
   "source": [
    "# Project Description\n",
    "Zillow is a real estate marketplace company. The Zillow dataset is utilized in this project to find drivers for property value for single family properties. "
   ]
  },
  {
   "cell_type": "markdown",
   "id": "f77c0441",
   "metadata": {},
   "source": [
    "# Project Goal\n",
    "\n",
    "* Discover drivers of property value in the Zillow dataset. \n",
    "* Use drivers to develop a machine learning model to predict the property value for a single family property.\n",
    "* Property value is defined as an estimated value for a property.\n",
    "* This information could be used to further our understanding of which elements contribute to the value of a property.\n",
    "\n",
    "# Initial Thoughts\n",
    "\n",
    "My initial hypothesis is that drivers of churn will be elements such as 'area_sqft', 'bathrooms', 'bedroom', 'fips', 'year'."
   ]
  },
  {
   "cell_type": "markdown",
   "id": "37dc34e9",
   "metadata": {},
   "source": [
    "# Acquire\n",
    "* Aquire dataset from Codeup database\n",
    "* It contained 52442 rows and 7 columns before cleaning\n",
    "* Each row represents a property at Zillow\n",
    "* Each column represents a feature of those properties"
   ]
  },
  {
   "cell_type": "markdown",
   "id": "b7833be8",
   "metadata": {},
   "source": [
    "# Prepare\n",
    "- Prepare Actions:\n",
    "    * Filtered columns that did not contain useful information\n",
    "    * Renamed columns to promote readability\n",
    "    * Checked for nulls in the data. The following columns contained nulls:\n",
    "        - 'year' (116 nulls), these rows were dropped  \n",
    "        - 'area_sqft' (82 nulls), these rows were dropped  \n",
    "        - 'property_value' (1 null), these rows were dropped  \n",
    "    * Checked that column data types were appropriate\n",
    "    * Added full_bath column, which divides the type of bathrooms into homes with only full bathrooms and half               bathrooms and including one home that has a three-quarters bath.\n",
    "    * Encoded categorical variables\n",
    "    * Split data into train, validate and test (approx. 60/20/20), stratifying on 'churn'\n",
    "    * Outliers have been removed for the iteration of the project, based on if they fell outside the 4 standard             deviation"
   ]
  },
  {
   "cell_type": "markdown",
   "id": "246e72f2",
   "metadata": {},
   "source": [
    "# Data Dictionary \n",
    "| Feature | Definition |\n",
    "|:--------|:-----------|\n",
    "|Property Value (Target)| Value of a single family property|\n",
    "|Area SQFT| The calculated finished square footage|\n",
    "|Bathrooms| The number of bathrooms, (half baths: .5 & three-quarters bath: .75|\n",
    "|Bedroom| 0 (No) or 1 (Yes), The number of bedrooms|\n",
    "|Year| The year the home was built|\n",
    "|Full Bath| 0 (No) or 1 (Yes), The home has only full bathrooms|\n",
    "|Fips| 6037: \"LA\", 6059: \"Orange\", 6111: \"Ventura\"|\n",
    "|Orange| 0 (No) or 1 (Yes), The home has is located in Orange county|\n",
    "|Ventura| 0 (No) or 1 (Yes), The home has is located in Ventura county|"
   ]
  },
  {
   "cell_type": "code",
   "execution_count": 2,
   "id": "3afebccd",
   "metadata": {},
   "outputs": [],
   "source": [
    "# retrieve the data from database or directory \n",
    "df = w.get_data()"
   ]
  },
  {
   "cell_type": "code",
   "execution_count": 3,
   "id": "a5c0363a",
   "metadata": {},
   "outputs": [
    {
     "name": "stdout",
     "output_type": "stream",
     "text": [
      "697 outliers removed from property_value.\n",
      "792 outliers removed from area_sqft.\n",
      "658 outliers removed from bathrooms.\n",
      "469 outliers removed from bedroom.\n",
      "0 outliers removed from pool.\n",
      "25 outliers removed from year.\n",
      "0 outliers removed from full_bath.\n",
      "\n",
      "Total of 2641 outliers removed.\n"
     ]
    }
   ],
   "source": [
    "# clean data, remove nulls, outliers and rename columns\n",
    "df = w.clean_zillow()"
   ]
  },
  {
   "cell_type": "code",
   "execution_count": 4,
   "id": "4581a9ec",
   "metadata": {},
   "outputs": [],
   "source": [
    "# split the data into train, validate, test\n",
    "train, validate, test = w.split_data(df)"
   ]
  },
  {
   "cell_type": "markdown",
   "id": "d334994c",
   "metadata": {},
   "source": [
    "# Summarize df "
   ]
  },
  {
   "cell_type": "code",
   "execution_count": 5,
   "id": "37a7c868",
   "metadata": {},
   "outputs": [
    {
     "data": {
      "text/html": [
       "<div>\n",
       "<style scoped>\n",
       "    .dataframe tbody tr th:only-of-type {\n",
       "        vertical-align: middle;\n",
       "    }\n",
       "\n",
       "    .dataframe tbody tr th {\n",
       "        vertical-align: top;\n",
       "    }\n",
       "\n",
       "    .dataframe thead th {\n",
       "        text-align: right;\n",
       "    }\n",
       "</style>\n",
       "<table border=\"1\" class=\"dataframe\">\n",
       "  <thead>\n",
       "    <tr style=\"text-align: right;\">\n",
       "      <th></th>\n",
       "      <th>property_value</th>\n",
       "      <th>area_sqft</th>\n",
       "      <th>bathrooms</th>\n",
       "      <th>bedroom</th>\n",
       "      <th>pool</th>\n",
       "      <th>fips</th>\n",
       "      <th>year</th>\n",
       "      <th>full_bath</th>\n",
       "      <th>orange</th>\n",
       "      <th>ventura</th>\n",
       "    </tr>\n",
       "  </thead>\n",
       "  <tbody>\n",
       "    <tr>\n",
       "      <th>32810</th>\n",
       "      <td>143239.0</td>\n",
       "      <td>1338.0</td>\n",
       "      <td>1.0</td>\n",
       "      <td>2.0</td>\n",
       "      <td>0.0</td>\n",
       "      <td>LA</td>\n",
       "      <td>1953.0</td>\n",
       "      <td>1</td>\n",
       "      <td>0</td>\n",
       "      <td>0</td>\n",
       "    </tr>\n",
       "    <tr>\n",
       "      <th>26217</th>\n",
       "      <td>353024.0</td>\n",
       "      <td>1110.0</td>\n",
       "      <td>2.0</td>\n",
       "      <td>3.0</td>\n",
       "      <td>0.0</td>\n",
       "      <td>Ventura</td>\n",
       "      <td>1962.0</td>\n",
       "      <td>1</td>\n",
       "      <td>0</td>\n",
       "      <td>1</td>\n",
       "    </tr>\n",
       "    <tr>\n",
       "      <th>13781</th>\n",
       "      <td>709340.0</td>\n",
       "      <td>1560.0</td>\n",
       "      <td>2.0</td>\n",
       "      <td>3.0</td>\n",
       "      <td>0.0</td>\n",
       "      <td>Orange</td>\n",
       "      <td>1965.0</td>\n",
       "      <td>1</td>\n",
       "      <td>1</td>\n",
       "      <td>0</td>\n",
       "    </tr>\n",
       "    <tr>\n",
       "      <th>25812</th>\n",
       "      <td>303031.0</td>\n",
       "      <td>1168.0</td>\n",
       "      <td>2.5</td>\n",
       "      <td>2.0</td>\n",
       "      <td>0.0</td>\n",
       "      <td>Orange</td>\n",
       "      <td>1977.0</td>\n",
       "      <td>0</td>\n",
       "      <td>1</td>\n",
       "      <td>0</td>\n",
       "    </tr>\n",
       "    <tr>\n",
       "      <th>12771</th>\n",
       "      <td>275213.0</td>\n",
       "      <td>1356.0</td>\n",
       "      <td>2.0</td>\n",
       "      <td>2.0</td>\n",
       "      <td>1.0</td>\n",
       "      <td>LA</td>\n",
       "      <td>1959.0</td>\n",
       "      <td>1</td>\n",
       "      <td>0</td>\n",
       "      <td>0</td>\n",
       "    </tr>\n",
       "  </tbody>\n",
       "</table>\n",
       "</div>"
      ],
      "text/plain": [
       "       property_value  area_sqft  bathrooms  bedroom  pool     fips    year  \\\n",
       "32810        143239.0     1338.0        1.0      2.0   0.0       LA  1953.0   \n",
       "26217        353024.0     1110.0        2.0      3.0   0.0  Ventura  1962.0   \n",
       "13781        709340.0     1560.0        2.0      3.0   0.0   Orange  1965.0   \n",
       "25812        303031.0     1168.0        2.5      2.0   0.0   Orange  1977.0   \n",
       "12771        275213.0     1356.0        2.0      2.0   1.0       LA  1959.0   \n",
       "\n",
       "       full_bath  orange  ventura  \n",
       "32810          1       0        0  \n",
       "26217          1       0        1  \n",
       "13781          1       1        0  \n",
       "25812          0       1        0  \n",
       "12771          1       0        0  "
      ]
     },
     "execution_count": 5,
     "metadata": {},
     "output_type": "execute_result"
    }
   ],
   "source": [
    "# overview of data\n",
    "train.head()"
   ]
  },
  {
   "cell_type": "markdown",
   "id": "58a019c8",
   "metadata": {},
   "source": [
    "# Explore"
   ]
  },
  {
   "cell_type": "code",
   "execution_count": 6,
   "id": "1e714655",
   "metadata": {},
   "outputs": [
    {
     "data": {
      "image/png": "[encoded data removed]",
      "text/plain": [
       "<Figure size 1000x800 with 2 Axes>"
      ]
     },
     "metadata": {},
     "output_type": "display_data"
    }
   ],
   "source": [
    "# Increase the figure size to accommodate the heatmap\n",
    "plt.figure(figsize=(10, 8))\n",
    "# Correlation heat map\n",
    "sns.heatmap(train.corr(method='pearson'), cmap='PRGn', annot=True, fmt=\".2f\",\n",
    "            mask=np.triu(train.corr(method='pearson')))\n",
    "# Adjust the font size of the annotations\n",
    "plt.yticks(fontsize=8)\n",
    "plt.xticks(fontsize=8)\n",
    "# Show the plot\n",
    "plt.show()"
   ]
  },
  {
   "cell_type": "markdown",
   "id": "ee85c45a",
   "metadata": {},
   "source": [
    "## Is having 1 bathroom worse for property value than having 2 bedrooms?"
   ]
  },
  {
   "cell_type": "code",
   "execution_count": 7,
   "id": "d1ef09f1",
   "metadata": {},
   "outputs": [],
   "source": [
    "null_hypothesis_1 = \"The average property value for 1 bathroom homes is less than or equal to the average property value for 2 bedroom homes\"\n",
    "alternate_hypothesis_1 =  \"The average property value for 1 bathroom homes is greater than the average property value for 2 bedroom homes\""
   ]
  },
  {
   "cell_type": "code",
   "execution_count": 8,
   "id": "484ab5de",
   "metadata": {},
   "outputs": [],
   "source": [
    "alpha = 0.05\n",
    "avg_one_bath =  train[train.bathrooms == 1].property_value\n",
    "avg_two_bed = train[train.bedroom == 2].property_value"
   ]
  },
  {
   "cell_type": "code",
   "execution_count": 9,
   "id": "141acc27",
   "metadata": {},
   "outputs": [],
   "source": [
    "graph_title=\"example\"\n",
    "feature_Q1 = \"bathrooms\"\n",
    "target = \"property_value\"\n",
    "\n",
    "feature_Q2 = \"bedroom\""
   ]
  },
  {
   "cell_type": "markdown",
   "id": "d0c3c83c",
   "metadata": {},
   "source": [
    "**I will use an Indenpendent T-Test (1-tailed), to investigate whether having 1 bathroom is worse for property value than having 2 bedrooms**\n",
    "\n",
    "* I will use a confidence interval of 95%\n",
    "* The alpha is .05"
   ]
  },
  {
   "cell_type": "code",
   "execution_count": 10,
   "id": "17cda003",
   "metadata": {},
   "outputs": [
    {
     "name": "stdout",
     "output_type": "stream",
     "text": [
      "\n",
      "        Fail to reject the null: Insufficient evidence\n",
      "        \n",
      " p-value: 7.902068766156978e-31 , t: -11.58541454497035\n"
     ]
    }
   ],
   "source": [
    "ex.ind_test(avg_one_bath, avg_two_bed, null_hypothesis_1, alternate_hypothesis_1)"
   ]
  },
  {
   "cell_type": "markdown",
   "id": "bb650e4a",
   "metadata": {},
   "source": [
    "**We failed the reject the null hypothesis, it is not likely that that the number of bathrooms will be a useful feature to model on.**"
   ]
  },
  {
   "cell_type": "markdown",
   "id": "5d368d69",
   "metadata": {},
   "source": [
    "## Does having a half bath better for property value than a full bath ?"
   ]
  },
  {
   "cell_type": "code",
   "execution_count": 11,
   "id": "0e9fa12c",
   "metadata": {},
   "outputs": [],
   "source": [
    "null_hypothesis_2 = \"The average property value for homes that have half bathrooms is less than or equal to the average property value for homes with full bathrooms\"\n",
    "alternate_hypothesis_2 =  \"The average property value for homes that have half bathrooms is greater than the average property value for homes with full bathrooms\""
   ]
  },
  {
   "cell_type": "code",
   "execution_count": 12,
   "id": "d378ccd4",
   "metadata": {},
   "outputs": [],
   "source": [
    "avg_full_bath  = train[train.full_bath == 1].property_value\n",
    "avg_half_bath = train[train.full_bath == 0].property_value"
   ]
  },
  {
   "cell_type": "code",
   "execution_count": 13,
   "id": "02755f7e",
   "metadata": {},
   "outputs": [
    {
     "ename": "NameError",
     "evalue": "name 'create_barplot' is not defined",
     "output_type": "error",
     "traceback": [
      "\u001b[0;31m---------------------------------------------------------------------------\u001b[0m",
      "\u001b[0;31mNameError\u001b[0m                                 Traceback (most recent call last)",
      "\u001b[0;32m/var/folders/bf/lhpb5n_j1xj4msxy6nrm9h7h0000gn/T/ipykernel_13622/3569419553.py\u001b[0m in \u001b[0;36m<module>\u001b[0;34m\u001b[0m\n\u001b[0;32m----> 1\u001b[0;31m \u001b[0mcreate_barplot\u001b[0m\u001b[0;34m(\u001b[0m\u001b[0mtrain\u001b[0m\u001b[0;34m,\u001b[0m \u001b[0;34m\"full_bath\"\u001b[0m\u001b[0;34m,\u001b[0m \u001b[0;34m\"property_value\"\u001b[0m\u001b[0;34m)\u001b[0m\u001b[0;34m\u001b[0m\u001b[0;34m\u001b[0m\u001b[0m\n\u001b[0m",
      "\u001b[0;31mNameError\u001b[0m: name 'create_barplot' is not defined"
     ]
    }
   ],
   "source": [
    "create_barplot(train, \"full_bath\", \"property_value\")"
   ]
  },
  {
   "cell_type": "code",
   "execution_count": null,
   "id": "69c78ee6",
   "metadata": {},
   "outputs": [],
   "source": [
    "ex.ind_test(avg_half_bath, avg_full_bath, null_hypothesis_2, alternate_hypothesis_2)"
   ]
  },
  {
   "cell_type": "markdown",
   "id": "8f597675",
   "metadata": {},
   "source": [
    "**We rejected the null hypothesis, therfore, we have evidence to support that if a home has half bathrooms has a greater property value. Based on this, I believe that using the 'full_bath' feature in modeling will likely have a small positive impact on the model's accuracy.**"
   ]
  },
  {
   "cell_type": "markdown",
   "id": "9e2d783d",
   "metadata": {},
   "source": [
    "## Does area sqft affect property value ?"
   ]
  },
  {
   "cell_type": "code",
   "execution_count": null,
   "id": "4fcada29",
   "metadata": {},
   "outputs": [],
   "source": [
    "null_hypothesis_3 = \"There is no linear correlation between the area_sqft and property value.\"\n",
    "alternate_hypothesis_3 =  \"There is a linear correlation between the area_sqft and property value.\""
   ]
  },
  {
   "cell_type": "code",
   "execution_count": null,
   "id": "ae90fcb2",
   "metadata": {},
   "outputs": [],
   "source": [
    "ex.create_relplot(x_var=\"area_sqft\", y_var=\"property_value\", df=train, title=\"Relationship Between Area and Property Value\")"
   ]
  },
  {
   "cell_type": "markdown",
   "id": "5091d6fd",
   "metadata": {},
   "source": [
    "**There is a positive correlation that area sqft does affect property value. Based on this, I believe that using the 'area_sqft' feature in modeling will likely have a small positive impact on the model's accuracy.**"
   ]
  },
  {
   "cell_type": "markdown",
   "id": "dde46d96",
   "metadata": {},
   "source": [
    "## Is a pool better for property value?"
   ]
  },
  {
   "cell_type": "code",
   "execution_count": null,
   "id": "2576b966",
   "metadata": {},
   "outputs": [],
   "source": [
    "null_hypothesis_4 = \"The average property value for homes with pools is less than or equal to the average property value for homes without pools\"\n",
    "alternate_hypothesis_4 =  \"The average property value for homes with pools is greater than the average property value for homes without pools\""
   ]
  },
  {
   "cell_type": "code",
   "execution_count": null,
   "id": "b17e7efa",
   "metadata": {},
   "outputs": [],
   "source": [
    "yes_pool  = train[train.pool == 1].property_value\n",
    "no_pool = train[train.pool == 0].property_value"
   ]
  },
  {
   "cell_type": "code",
   "execution_count": 14,
   "id": "75155350",
   "metadata": {},
   "outputs": [],
   "source": [
    "def create_barplot(df, x_var, y_var):\n",
    "    plt.figure(figsize=(8, 6))\n",
    "    sns.barplot(x=x_var, y=y_var, data=df)\n",
    "    plt.xlabel(x_var)\n",
    "    plt.ylabel(y_var)\n",
    "    plt.title(f'Barplot of {y_var} by {x_var}')\n",
    "    plt.show()"
   ]
  },
  {
   "cell_type": "code",
   "execution_count": null,
   "id": "940f44a8",
   "metadata": {},
   "outputs": [],
   "source": [
    "create_barplot(train, \"pool\", \"property_value\")"
   ]
  },
  {
   "cell_type": "code",
   "execution_count": null,
   "id": "0f85b023",
   "metadata": {},
   "outputs": [],
   "source": [
    "ex.ind_test(yes_pool, no_pool, null_hypothesis_4, alternate_hypothesis_4)"
   ]
  },
  {
   "cell_type": "markdown",
   "id": "83abf9ac",
   "metadata": {},
   "source": [
    "**We rejected the null hypothesis, therfore, we have evidence to support that homes with pools have a greater property value, than homes without a pool. Based on this, I believe that using the 'pool' feature in modeling will likely have a small positive impact on the model's accuracy.**"
   ]
  },
  {
   "cell_type": "markdown",
   "id": "e9398f08",
   "metadata": {},
   "source": [
    "## Is the average area  for properties in orange county greater than the overall average area?"
   ]
  },
  {
   "cell_type": "code",
   "execution_count": null,
   "id": "d9cf4963",
   "metadata": {},
   "outputs": [],
   "source": [
    "null_hypothesis_3 = \"The average property value for homes in Orange county is less than or equal to the average property value in other counties\"\n",
    "alternate_hypothesis_3 =  \"The average property value for homes in Orange county is greater than the average property value in other counties\""
   ]
  },
  {
   "cell_type": "code",
   "execution_count": null,
   "id": "b642d8a3",
   "metadata": {},
   "outputs": [],
   "source": [
    "orange_sample = train[train.fips == 'Orange'].property_value\n",
    "overall_mean = train.property_value.mean()"
   ]
  },
  {
   "cell_type": "code",
   "execution_count": null,
   "id": "b05456bc",
   "metadata": {},
   "outputs": [],
   "source": [
    "create_barplot(train, \"fips\", \"property_value\")"
   ]
  },
  {
   "cell_type": "code",
   "execution_count": null,
   "id": "9110253e",
   "metadata": {},
   "outputs": [],
   "source": [
    "ex.one_test(orange_sample, overall_mean, null_hypothesis_3, alternate_hypothesis_3)"
   ]
  },
  {
   "cell_type": "markdown",
   "id": "0352b763",
   "metadata": {},
   "source": [
    "**We rejected the null hypothesis, therfore, we have evidence to support that the average property value for homes located in Orange county is greater than the average property value in other counties. Based on this, I believe that using the 'Orange' feature in modeling will likely have a small positive impact on the model's accuracy.**"
   ]
  },
  {
   "cell_type": "markdown",
   "id": "660dca36",
   "metadata": {},
   "source": [
    "# Exploration Summary\n",
    "* \"Automatic Payment\" was found to be a driver of \"Churn\", Customers' with 'Automatic Payment' churned less than those who didn't have 'Automatic Payment'.\n",
    "* \"Paperless Billing\" was found to be a driver of \"Churn\", customers' with 'Paperless Billing' churned more than those who didn't have 'Paperless Billing'.\n",
    "* \"Partner\" was found to be a driver of \"Churn\",  customers' with 'Partners' churned less than those who didn't.\n",
    "* \"Dependents\" was found to be a driver of \"Churn\", customers' with 'Dependents' churned less than those who didn't.\n",
    "* \"Gender\" was not found to be a driver of \"Churn\"\n",
    "* \"Tenure\" was found to be a driver of \"Churn\", 'Tenure' of customers who 'Churn' is not equal to that of those who don't 'Churn'"
   ]
  },
  {
   "cell_type": "markdown",
   "id": "ec2fa8fd",
   "metadata": {},
   "source": [
    "# Features continuing to modeling\n",
    "\n",
    "* \"Automatic Payment\" was found to be a driver of \"Churn\" (small difference in churn percentage, but relationship to churn is statistically significant)\n",
    "* \"Paperless Billing\" was found to be a driver of \"Churn\" (small difference in churn percentage, but relationship to churn is statistically significant)\n",
    "* \"Partner\" was found to be a driver of \"Churn\" (small difference in churn percentage, but relationship to churn is statistically significant)\n",
    "* \"Dependents\" was found to be a driver of \"Churn\" (small difference in churn percentage, but relationship to churn is statistically significant)\n",
    "* \"Tenure\" was found to be a driver of \"Churn\" (small difference in churn percentage, but relationship to churn is statistically significant)"
   ]
  },
  {
   "cell_type": "markdown",
   "id": "e04c504e",
   "metadata": {},
   "source": [
    "# Features not continuing to modeling\n",
    "* \"Gender\" was found to be a driver of \"Churn\"  (There is no evidence that \"Gender\" is a driver of churn)"
   ]
  },
  {
   "cell_type": "markdown",
   "id": "7f178aa9",
   "metadata": {},
   "source": [
    "# Modeling\n",
    "\n",
    "* My evaluation metric will use RMSE and R2."
   ]
  },
  {
   "cell_type": "markdown",
   "id": "0aac353f",
   "metadata": {},
   "source": [
    "* The average property value is set as the baseline [rmse: 320706.78, r2: 0.00], and will continue to use for this project.\n",
    "* I will be evaluating models developed using three different model types and various hyperparameter configurations.\n",
    "* Models will be evaluated on train and validate data.\n",
    "* The model that performs the best will then be evaluated on test data."
   ]
  },
  {
   "cell_type": "code",
   "execution_count": 27,
   "id": "12604454",
   "metadata": {},
   "outputs": [],
   "source": [
    "# features and the target variable\n",
    "features = ['area_sqft', 'bathrooms', 'bedroom', 'year', 'pool', 'full_bath','orange', 'ventura']\n",
    "target = \"property_value\""
   ]
  },
  {
   "cell_type": "code",
   "execution_count": 28,
   "id": "c3dd43c9",
   "metadata": {},
   "outputs": [],
   "source": [
    "# split the train, validate, test into x and y \n",
    "x_train, x_validate, x_test  = train[features], validate[features], test[features]\n",
    "y_train, y_validate, y_test = train[target], validate[target], test[target]"
   ]
  },
  {
   "cell_type": "code",
   "execution_count": 29,
   "id": "e149ac24",
   "metadata": {},
   "outputs": [],
   "source": [
    "# scaling the x datasets\n",
    "x_train_scaled, x_validate_scaled, x_test_scaled = w.mm_scale(x_train, x_validate, x_test)"
   ]
  },
  {
   "cell_type": "code",
   "execution_count": 30,
   "id": "b10f19f8",
   "metadata": {},
   "outputs": [
    {
     "data": {
      "text/html": [
       "<div>\n",
       "<style scoped>\n",
       "    .dataframe tbody tr th:only-of-type {\n",
       "        vertical-align: middle;\n",
       "    }\n",
       "\n",
       "    .dataframe tbody tr th {\n",
       "        vertical-align: top;\n",
       "    }\n",
       "\n",
       "    .dataframe thead th {\n",
       "        text-align: right;\n",
       "    }\n",
       "</style>\n",
       "<table border=\"1\" class=\"dataframe\">\n",
       "  <thead>\n",
       "    <tr style=\"text-align: right;\">\n",
       "      <th></th>\n",
       "      <th>model</th>\n",
       "      <th>rmse</th>\n",
       "      <th>r2</th>\n",
       "    </tr>\n",
       "  </thead>\n",
       "  <tbody>\n",
       "    <tr>\n",
       "      <th>0</th>\n",
       "      <td>baseline</td>\n",
       "      <td>369171.417182</td>\n",
       "      <td>0.0</td>\n",
       "    </tr>\n",
       "  </tbody>\n",
       "</table>\n",
       "</div>"
      ],
      "text/plain": [
       "      model           rmse   r2\n",
       "0  baseline  369171.417182  0.0"
      ]
     },
     "execution_count": 30,
     "metadata": {},
     "output_type": "execute_result"
    }
   ],
   "source": [
    "# creating and adding the baseline\n",
    "baseline = y_train.mean()\n",
    "baseline_array = np.repeat(baseline, len(train))\n",
    "rmse, r2 = m.metrics_reg(y_train, baseline_array)\n",
    "\n",
    "# metrics dataframe\n",
    "metrics_df = pd.DataFrame(data=[\n",
    "    {\n",
    "        'model':'baseline',\n",
    "        'rmse':rmse,\n",
    "        'r2':r2\n",
    "    }\n",
    "    \n",
    "])\n",
    "metrics_df"
   ]
  },
  {
   "cell_type": "markdown",
   "id": "68a2ac07",
   "metadata": {},
   "source": [
    "## LinearRegression (OLS)"
   ]
  },
  {
   "cell_type": "code",
   "execution_count": 31,
   "id": "5e0aa1f7",
   "metadata": {},
   "outputs": [
    {
     "data": {
      "text/html": [
       "<div>\n",
       "<style scoped>\n",
       "    .dataframe tbody tr th:only-of-type {\n",
       "        vertical-align: middle;\n",
       "    }\n",
       "\n",
       "    .dataframe tbody tr th {\n",
       "        vertical-align: top;\n",
       "    }\n",
       "\n",
       "    .dataframe thead th {\n",
       "        text-align: right;\n",
       "    }\n",
       "</style>\n",
       "<table border=\"1\" class=\"dataframe\">\n",
       "  <thead>\n",
       "    <tr style=\"text-align: right;\">\n",
       "      <th></th>\n",
       "      <th>area_sqft</th>\n",
       "      <th>bathrooms</th>\n",
       "      <th>bedroom</th>\n",
       "      <th>year</th>\n",
       "      <th>pool</th>\n",
       "      <th>full_bath</th>\n",
       "      <th>orange</th>\n",
       "      <th>ventura</th>\n",
       "    </tr>\n",
       "  </thead>\n",
       "  <tbody>\n",
       "    <tr>\n",
       "      <th>0</th>\n",
       "      <td>0.270159</td>\n",
       "      <td>0.222222</td>\n",
       "      <td>0.25</td>\n",
       "      <td>0.479339</td>\n",
       "      <td>0.0</td>\n",
       "      <td>1.0</td>\n",
       "      <td>0.0</td>\n",
       "      <td>0.0</td>\n",
       "    </tr>\n",
       "    <tr>\n",
       "      <th>1</th>\n",
       "      <td>0.218223</td>\n",
       "      <td>0.444444</td>\n",
       "      <td>0.50</td>\n",
       "      <td>0.553719</td>\n",
       "      <td>0.0</td>\n",
       "      <td>1.0</td>\n",
       "      <td>0.0</td>\n",
       "      <td>1.0</td>\n",
       "    </tr>\n",
       "    <tr>\n",
       "      <th>2</th>\n",
       "      <td>0.320729</td>\n",
       "      <td>0.444444</td>\n",
       "      <td>0.50</td>\n",
       "      <td>0.578512</td>\n",
       "      <td>0.0</td>\n",
       "      <td>1.0</td>\n",
       "      <td>1.0</td>\n",
       "      <td>0.0</td>\n",
       "    </tr>\n",
       "    <tr>\n",
       "      <th>3</th>\n",
       "      <td>0.231435</td>\n",
       "      <td>0.555556</td>\n",
       "      <td>0.25</td>\n",
       "      <td>0.677686</td>\n",
       "      <td>0.0</td>\n",
       "      <td>0.0</td>\n",
       "      <td>1.0</td>\n",
       "      <td>0.0</td>\n",
       "    </tr>\n",
       "    <tr>\n",
       "      <th>4</th>\n",
       "      <td>0.274260</td>\n",
       "      <td>0.444444</td>\n",
       "      <td>0.25</td>\n",
       "      <td>0.528926</td>\n",
       "      <td>1.0</td>\n",
       "      <td>1.0</td>\n",
       "      <td>0.0</td>\n",
       "      <td>0.0</td>\n",
       "    </tr>\n",
       "    <tr>\n",
       "      <th>...</th>\n",
       "      <td>...</td>\n",
       "      <td>...</td>\n",
       "      <td>...</td>\n",
       "      <td>...</td>\n",
       "      <td>...</td>\n",
       "      <td>...</td>\n",
       "      <td>...</td>\n",
       "      <td>...</td>\n",
       "    </tr>\n",
       "    <tr>\n",
       "      <th>29802</th>\n",
       "      <td>0.399317</td>\n",
       "      <td>0.444444</td>\n",
       "      <td>0.50</td>\n",
       "      <td>0.239669</td>\n",
       "      <td>0.0</td>\n",
       "      <td>1.0</td>\n",
       "      <td>0.0</td>\n",
       "      <td>0.0</td>\n",
       "    </tr>\n",
       "    <tr>\n",
       "      <th>29803</th>\n",
       "      <td>0.280182</td>\n",
       "      <td>0.444444</td>\n",
       "      <td>0.50</td>\n",
       "      <td>0.628099</td>\n",
       "      <td>0.0</td>\n",
       "      <td>1.0</td>\n",
       "      <td>0.0</td>\n",
       "      <td>1.0</td>\n",
       "    </tr>\n",
       "    <tr>\n",
       "      <th>29804</th>\n",
       "      <td>0.364009</td>\n",
       "      <td>0.444444</td>\n",
       "      <td>0.25</td>\n",
       "      <td>0.165289</td>\n",
       "      <td>0.0</td>\n",
       "      <td>1.0</td>\n",
       "      <td>0.0</td>\n",
       "      <td>0.0</td>\n",
       "    </tr>\n",
       "    <tr>\n",
       "      <th>29805</th>\n",
       "      <td>0.312301</td>\n",
       "      <td>0.444444</td>\n",
       "      <td>0.25</td>\n",
       "      <td>0.446281</td>\n",
       "      <td>0.0</td>\n",
       "      <td>1.0</td>\n",
       "      <td>0.0</td>\n",
       "      <td>0.0</td>\n",
       "    </tr>\n",
       "    <tr>\n",
       "      <th>29806</th>\n",
       "      <td>0.359453</td>\n",
       "      <td>0.666667</td>\n",
       "      <td>0.50</td>\n",
       "      <td>0.471074</td>\n",
       "      <td>0.0</td>\n",
       "      <td>1.0</td>\n",
       "      <td>0.0</td>\n",
       "      <td>0.0</td>\n",
       "    </tr>\n",
       "  </tbody>\n",
       "</table>\n",
       "<p>29807 rows × 8 columns</p>\n",
       "</div>"
      ],
      "text/plain": [
       "       area_sqft  bathrooms  bedroom      year  pool  full_bath  orange  \\\n",
       "0       0.270159   0.222222     0.25  0.479339   0.0        1.0     0.0   \n",
       "1       0.218223   0.444444     0.50  0.553719   0.0        1.0     0.0   \n",
       "2       0.320729   0.444444     0.50  0.578512   0.0        1.0     1.0   \n",
       "3       0.231435   0.555556     0.25  0.677686   0.0        0.0     1.0   \n",
       "4       0.274260   0.444444     0.25  0.528926   1.0        1.0     0.0   \n",
       "...          ...        ...      ...       ...   ...        ...     ...   \n",
       "29802   0.399317   0.444444     0.50  0.239669   0.0        1.0     0.0   \n",
       "29803   0.280182   0.444444     0.50  0.628099   0.0        1.0     0.0   \n",
       "29804   0.364009   0.444444     0.25  0.165289   0.0        1.0     0.0   \n",
       "29805   0.312301   0.444444     0.25  0.446281   0.0        1.0     0.0   \n",
       "29806   0.359453   0.666667     0.50  0.471074   0.0        1.0     0.0   \n",
       "\n",
       "       ventura  \n",
       "0          0.0  \n",
       "1          1.0  \n",
       "2          0.0  \n",
       "3          0.0  \n",
       "4          0.0  \n",
       "...        ...  \n",
       "29802      0.0  \n",
       "29803      1.0  \n",
       "29804      0.0  \n",
       "29805      0.0  \n",
       "29806      0.0  \n",
       "\n",
       "[29807 rows x 8 columns]"
      ]
     },
     "execution_count": 31,
     "metadata": {},
     "output_type": "execute_result"
    }
   ],
   "source": [
    "x_train_scaled"
   ]
  },
  {
   "cell_type": "code",
   "execution_count": 32,
   "id": "3fd6ef4c",
   "metadata": {},
   "outputs": [],
   "source": [
    "# make the model, fit and use it on train and validate\n",
    "ols_rmse, ols_r2 = m.ols_mod(x_train_scaled, x_validate_scaled, y_train, y_validate)\n",
    "# add to metrics_reg\n",
    "metrics_df.loc[1] = ['ols', ols_rmse, ols_r2]"
   ]
  },
  {
   "cell_type": "markdown",
   "id": "a73b3ec3",
   "metadata": {},
   "source": [
    "##  LassoLars"
   ]
  },
  {
   "cell_type": "code",
   "execution_count": 33,
   "id": "9c6c1aea",
   "metadata": {},
   "outputs": [],
   "source": [
    "lars_rmse, lars_r2 = m.lars_mod(x_train_scaled, x_validate_scaled, y_train, y_validate)\n",
    "metrics_df.loc[2] = ['lars', lars_rmse, lars_r2]"
   ]
  },
  {
   "cell_type": "markdown",
   "id": "4be09e74",
   "metadata": {},
   "source": [
    "## TweedieRegressor (GLM)"
   ]
  },
  {
   "cell_type": "code",
   "execution_count": 34,
   "id": "8b619b1c",
   "metadata": {},
   "outputs": [],
   "source": [
    "glm_rmse, glm_r2 = m.glm_mod(x_train_scaled, x_validate_scaled, y_train, y_validate)\n",
    "metrics_df.loc[3] = ['glm', glm_rmse, glm_r2]"
   ]
  },
  {
   "cell_type": "markdown",
   "id": "8ead7930",
   "metadata": {},
   "source": [
    "## Polynomial Regression"
   ]
  },
  {
   "cell_type": "code",
   "execution_count": 35,
   "id": "99e4a6ca",
   "metadata": {},
   "outputs": [],
   "source": [
    "ploy_rmse, ploy_r2 = m.poly_mod(x_train_scaled, x_validate_scaled, x_test_scaled, y_train, y_validate)\n",
    "metrics_df.loc[4] = ['poly', ploy_rmse, ploy_r2]"
   ]
  },
  {
   "cell_type": "markdown",
   "id": "dcbbfbe9",
   "metadata": {},
   "source": [
    "# Metrics for Models"
   ]
  },
  {
   "cell_type": "code",
   "execution_count": 36,
   "id": "515ce575",
   "metadata": {},
   "outputs": [
    {
     "data": {
      "text/html": [
       "<div>\n",
       "<style scoped>\n",
       "    .dataframe tbody tr th:only-of-type {\n",
       "        vertical-align: middle;\n",
       "    }\n",
       "\n",
       "    .dataframe tbody tr th {\n",
       "        vertical-align: top;\n",
       "    }\n",
       "\n",
       "    .dataframe thead th {\n",
       "        text-align: right;\n",
       "    }\n",
       "</style>\n",
       "<table border=\"1\" class=\"dataframe\">\n",
       "  <thead>\n",
       "    <tr style=\"text-align: right;\">\n",
       "      <th></th>\n",
       "      <th>model</th>\n",
       "      <th>rmse</th>\n",
       "      <th>r2</th>\n",
       "    </tr>\n",
       "  </thead>\n",
       "  <tbody>\n",
       "    <tr>\n",
       "      <th>0</th>\n",
       "      <td>baseline</td>\n",
       "      <td>369171.417182</td>\n",
       "      <td>0.000000</td>\n",
       "    </tr>\n",
       "    <tr>\n",
       "      <th>1</th>\n",
       "      <td>ols</td>\n",
       "      <td>306009.272027</td>\n",
       "      <td>0.311014</td>\n",
       "    </tr>\n",
       "    <tr>\n",
       "      <th>2</th>\n",
       "      <td>lars</td>\n",
       "      <td>306012.114382</td>\n",
       "      <td>0.311001</td>\n",
       "    </tr>\n",
       "    <tr>\n",
       "      <th>3</th>\n",
       "      <td>glm</td>\n",
       "      <td>306009.273118</td>\n",
       "      <td>0.311014</td>\n",
       "    </tr>\n",
       "    <tr>\n",
       "      <th>4</th>\n",
       "      <td>poly</td>\n",
       "      <td>296972.556968</td>\n",
       "      <td>0.351105</td>\n",
       "    </tr>\n",
       "  </tbody>\n",
       "</table>\n",
       "</div>"
      ],
      "text/plain": [
       "      model           rmse        r2\n",
       "0  baseline  369171.417182  0.000000\n",
       "1       ols  306009.272027  0.311014\n",
       "2      lars  306012.114382  0.311001\n",
       "3       glm  306009.273118  0.311014\n",
       "4      poly  296972.556968  0.351105"
      ]
     },
     "execution_count": 36,
     "metadata": {},
     "output_type": "execute_result"
    }
   ],
   "source": [
    "metrics_df"
   ]
  },
  {
   "cell_type": "markdown",
   "id": "7f264fc9",
   "metadata": {},
   "source": [
    "# Comparing Models\n",
    "* All of the models preformed better than the baseline\n",
    "* The best model overall was the Polynomial Regression which had the lowest RMSE and R2 \n",
    "* I have chosen to move forward with the Polynomial Regression model."
   ]
  },
  {
   "cell_type": "markdown",
   "id": "7a731a09",
   "metadata": {},
   "source": [
    "# Polynomial Regression on Test"
   ]
  },
  {
   "cell_type": "code",
   "execution_count": 37,
   "id": "798ac46d",
   "metadata": {},
   "outputs": [],
   "source": [
    "test_rmse, test_r2 = m.best_model(x_train_scaled, x_test_scaled, y_train, y_test)\n",
    "metrics_df.loc[5] = ['final test', test_rmse, test_r2]"
   ]
  },
  {
   "cell_type": "code",
   "execution_count": 38,
   "id": "7bc1567d",
   "metadata": {},
   "outputs": [
    {
     "data": {
      "text/html": [
       "<div>\n",
       "<style scoped>\n",
       "    .dataframe tbody tr th:only-of-type {\n",
       "        vertical-align: middle;\n",
       "    }\n",
       "\n",
       "    .dataframe tbody tr th {\n",
       "        vertical-align: top;\n",
       "    }\n",
       "\n",
       "    .dataframe thead th {\n",
       "        text-align: right;\n",
       "    }\n",
       "</style>\n",
       "<table border=\"1\" class=\"dataframe\">\n",
       "  <thead>\n",
       "    <tr style=\"text-align: right;\">\n",
       "      <th></th>\n",
       "      <th>model</th>\n",
       "      <th>rmse</th>\n",
       "      <th>r2</th>\n",
       "    </tr>\n",
       "  </thead>\n",
       "  <tbody>\n",
       "    <tr>\n",
       "      <th>0</th>\n",
       "      <td>baseline</td>\n",
       "      <td>369171.417182</td>\n",
       "      <td>0.000000</td>\n",
       "    </tr>\n",
       "    <tr>\n",
       "      <th>1</th>\n",
       "      <td>ols</td>\n",
       "      <td>306009.272027</td>\n",
       "      <td>0.311014</td>\n",
       "    </tr>\n",
       "    <tr>\n",
       "      <th>2</th>\n",
       "      <td>lars</td>\n",
       "      <td>306012.114382</td>\n",
       "      <td>0.311001</td>\n",
       "    </tr>\n",
       "    <tr>\n",
       "      <th>3</th>\n",
       "      <td>glm</td>\n",
       "      <td>306009.273118</td>\n",
       "      <td>0.311014</td>\n",
       "    </tr>\n",
       "    <tr>\n",
       "      <th>4</th>\n",
       "      <td>poly</td>\n",
       "      <td>296972.556968</td>\n",
       "      <td>0.351105</td>\n",
       "    </tr>\n",
       "    <tr>\n",
       "      <th>5</th>\n",
       "      <td>final test</td>\n",
       "      <td>304738.388531</td>\n",
       "      <td>0.351256</td>\n",
       "    </tr>\n",
       "  </tbody>\n",
       "</table>\n",
       "</div>"
      ],
      "text/plain": [
       "        model           rmse        r2\n",
       "0    baseline  369171.417182  0.000000\n",
       "1         ols  306009.272027  0.311014\n",
       "2        lars  306012.114382  0.311001\n",
       "3         glm  306009.273118  0.311014\n",
       "4        poly  296972.556968  0.351105\n",
       "5  final test  304738.388531  0.351256"
      ]
     },
     "execution_count": 38,
     "metadata": {},
     "output_type": "execute_result"
    }
   ],
   "source": [
    "metrics_df"
   ]
  },
  {
   "cell_type": "markdown",
   "id": "f2296bb5",
   "metadata": {},
   "source": [
    "# Conclusions\n",
    "\n",
    "### Exploration\n",
    "* \"Automatic Payment\" was found to be a driver of \"Churn\", customers' with auto pay set were not churning as often\n",
    "* \"Paperless Billing\" was found to be a driver of \"Churn\",  customers' with paperless billing were churning more\n",
    "* \"Partner\" was found to be a driver of \"Churn\", are more likely to churn if the customer does not have a partner\n",
    "* \"Dependents\" was found to be a driver of \"Churn\", are more likely to churn if the customer does not have dependents\n",
    "* \"Tenure\" was found to be a driver of \"Churn\", Customers' with low 'Tenure' churned more than those who had high 'Tenure\n",
    "* \"Gender\" was not found to be a driver of \"Churn\"\n",
    "\n",
    "\n",
    "### Modeling Takeaways \n",
    "The final model significantly outperformed the baseline. Polynomial Regression which had the lowest RMSE and highest R2.\n",
    "\n",
    "\n",
    "### Recommendations\n",
    "* To decrease the likelihood of customers churning offer a small incentive for new/current customers to initiate automatic payments.\n",
    "* To decrease the likelihood of customers' with low tenure, dependents, or partners from churning, offer these selected customers discounted rates for longer contracts.\n",
    "\n",
    "### Next Steps\n",
    "* I would like to explore further into paperless billing and tenure, to explore other possible factors that contribute to the relationship.\n",
    "* I would like to explore other features, such as monthly payments and internet service providers to find other driving factors. "
   ]
  }
 ],
 "metadata": {
  "kernelspec": {
   "display_name": "Python 3 (ipykernel)",
   "language": "python",
   "name": "python3"
  },
  "language_info": {
   "codemirror_mode": {
    "name": "ipython",
    "version": 3
   },
   "file_extension": ".py",
   "mimetype": "text/x-python",
   "name": "python",
   "nbconvert_exporter": "python",
   "pygments_lexer": "ipython3",
   "version": "3.9.13"
  }
 },
 "nbformat": 4,
 "nbformat_minor": 5
}
