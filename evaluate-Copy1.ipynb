{
 "cells": [
  {
   "cell_type": "code",
   "execution_count": 1,
   "id": "b78c6f05",
   "metadata": {},
   "outputs": [],
   "source": [
    "import warnings\n",
    "warnings.filterwarnings('ignore')\n",
    "\n",
    "import pandas as pd\n",
    "import numpy as np\n",
    "\n",
    "\n",
    "import wrangle as w\n",
    "import evaluate as e\n",
    "import model as m\n",
    "\n",
    "import seaborn as sns\n",
    "import matplotlib.pyplot as plt\n",
    "from scipy import stats\n",
    "from sklearn.model_selection import train_test_split\n",
    "\n",
    "from sklearn.linear_model import LinearRegression\n",
    "\n",
    "\n",
    "from sklearn.metrics import mean_squared_error, r2_score, explained_variance_score\n",
    "\n",
    "from sklearn.feature_selection import f_regression \n",
    "from math import sqrt\n",
    "\n",
    "#sklearn imports\n",
    "from sklearn.linear_model import LinearRegression, LassoLars, TweedieRegressor\n",
    "from sklearn.feature_selection import RFE, SelectKBest, f_regression\n",
    "from sklearn.preprocessing import MinMaxScaler, PolynomialFeatures\n",
    "from sklearn.model_selection import train_test_split\n",
    "from sklearn.metrics import mean_squared_error\n",
    "from sklearn.metrics import r2_score\n",
    "\n",
    "\n",
    "import wrangle as w\n",
    "import evaluate as e\n"
   ]
  },
  {
   "cell_type": "code",
   "execution_count": 2,
   "id": "20b961bc",
   "metadata": {},
   "outputs": [],
   "source": [
    "# retrieve the data from database or directory \n",
    "df = w.get_data()"
   ]
  },
  {
   "cell_type": "code",
   "execution_count": 3,
   "id": "84449814",
   "metadata": {},
   "outputs": [
    {
     "name": "stdout",
     "output_type": "stream",
     "text": [
      "378 outliers removed from area_sqft.\n",
      "67 outliers removed from bathrooms.\n",
      "85 outliers removed from bedroom.\n",
      "0 outliers removed from pool.\n",
      "0 outliers removed from year.\n",
      "477 outliers removed from property_value.\n",
      "0 outliers removed from full_bath.\n",
      "\n",
      "Total of 1007 outliers removed.\n"
     ]
    }
   ],
   "source": [
    "# clean data, remove nulls, outliers and rename columns\n",
    "df = w.clean_zillow()"
   ]
  },
  {
   "cell_type": "code",
   "execution_count": 4,
   "id": "3fbddade",
   "metadata": {},
   "outputs": [],
   "source": [
    "# split the data into train, validate, test\n",
    "train, validate, test = w.split_data(df)"
   ]
  },
  {
   "cell_type": "code",
   "execution_count": 5,
   "id": "ac7af430",
   "metadata": {},
   "outputs": [],
   "source": [
    "# split the train, validate, test into x and y \n",
    "target = \"property_value\"\n",
    "x_train, x_validate, x_test  = train[['area_sqft', 'bathrooms', 'bedroom', 'pool', 'year', 'full_bath','orange', 'ventura']], validate[['area_sqft', 'bathrooms', 'bedroom', 'pool', 'year', 'full_bath','orange', 'ventura']], test[['area_sqft', 'bathrooms', 'bedroom', 'pool', 'year', 'full_bath','orange', 'ventura']]\n",
    "y_train, y_validate, y_test = train[target], validate[target], test[target]"
   ]
  },
  {
   "cell_type": "code",
   "execution_count": 31,
   "id": "7e49dcb4",
   "metadata": {},
   "outputs": [],
   "source": [
    "target = \"property_value\"\n",
    "x_train1, x_validate1, x_test1  = train[['area_sqft', 'bathrooms', 'bedroom','orange', 'ventura']], validate[['area_sqft', 'bathrooms', 'bedroom','orange', 'ventura']], test[['area_sqft', 'bathrooms', 'bedroom','orange', 'ventura']]\n",
    "y_train1, y_validate1, y_test1 = train[target], validate[target], test[target]"
   ]
  },
  {
   "cell_type": "markdown",
   "id": "4cfae9f6",
   "metadata": {},
   "source": [
    "# scale data "
   ]
  },
  {
   "cell_type": "code",
   "execution_count": 7,
   "id": "b81b581a",
   "metadata": {},
   "outputs": [],
   "source": [
    "# scale the x \n",
    "x_train_scaled, x_validate_scaled, x_test_scaled = w.mm_scale(x_train, x_validate, x_test)"
   ]
  },
  {
   "cell_type": "code",
   "execution_count": 32,
   "id": "d0ad02ec",
   "metadata": {},
   "outputs": [],
   "source": [
    "x_train_scaled, x_validate_scaled, x_test_scaled = w.mm_scale(x_train1, x_validate1, x_test1)"
   ]
  },
  {
   "cell_type": "code",
   "execution_count": 33,
   "id": "596576d4",
   "metadata": {},
   "outputs": [
    {
     "data": {
      "text/html": [
       "<div>\n",
       "<style scoped>\n",
       "    .dataframe tbody tr th:only-of-type {\n",
       "        vertical-align: middle;\n",
       "    }\n",
       "\n",
       "    .dataframe tbody tr th {\n",
       "        vertical-align: top;\n",
       "    }\n",
       "\n",
       "    .dataframe thead th {\n",
       "        text-align: right;\n",
       "    }\n",
       "</style>\n",
       "<table border=\"1\" class=\"dataframe\">\n",
       "  <thead>\n",
       "    <tr style=\"text-align: right;\">\n",
       "      <th></th>\n",
       "      <th>area_sqft</th>\n",
       "      <th>bathrooms</th>\n",
       "      <th>bedroom</th>\n",
       "      <th>orange</th>\n",
       "      <th>ventura</th>\n",
       "    </tr>\n",
       "  </thead>\n",
       "  <tbody>\n",
       "    <tr>\n",
       "      <th>0</th>\n",
       "      <td>0.259907</td>\n",
       "      <td>0.333333</td>\n",
       "      <td>0.666667</td>\n",
       "      <td>1.0</td>\n",
       "      <td>0.0</td>\n",
       "    </tr>\n",
       "    <tr>\n",
       "      <th>1</th>\n",
       "      <td>0.177193</td>\n",
       "      <td>0.333333</td>\n",
       "      <td>0.500000</td>\n",
       "      <td>0.0</td>\n",
       "      <td>0.0</td>\n",
       "    </tr>\n",
       "    <tr>\n",
       "      <th>2</th>\n",
       "      <td>0.197093</td>\n",
       "      <td>0.333333</td>\n",
       "      <td>0.500000</td>\n",
       "      <td>0.0</td>\n",
       "      <td>0.0</td>\n",
       "    </tr>\n",
       "    <tr>\n",
       "      <th>3</th>\n",
       "      <td>0.133760</td>\n",
       "      <td>0.166667</td>\n",
       "      <td>0.166667</td>\n",
       "      <td>0.0</td>\n",
       "      <td>0.0</td>\n",
       "    </tr>\n",
       "    <tr>\n",
       "      <th>4</th>\n",
       "      <td>0.221838</td>\n",
       "      <td>0.333333</td>\n",
       "      <td>0.500000</td>\n",
       "      <td>0.0</td>\n",
       "      <td>0.0</td>\n",
       "    </tr>\n",
       "    <tr>\n",
       "      <th>...</th>\n",
       "      <td>...</td>\n",
       "      <td>...</td>\n",
       "      <td>...</td>\n",
       "      <td>...</td>\n",
       "      <td>...</td>\n",
       "    </tr>\n",
       "    <tr>\n",
       "      <th>30782</th>\n",
       "      <td>0.120782</td>\n",
       "      <td>0.166667</td>\n",
       "      <td>0.333333</td>\n",
       "      <td>1.0</td>\n",
       "      <td>0.0</td>\n",
       "    </tr>\n",
       "    <tr>\n",
       "      <th>30783</th>\n",
       "      <td>0.110573</td>\n",
       "      <td>0.166667</td>\n",
       "      <td>0.333333</td>\n",
       "      <td>0.0</td>\n",
       "      <td>0.0</td>\n",
       "    </tr>\n",
       "    <tr>\n",
       "      <th>30784</th>\n",
       "      <td>0.146219</td>\n",
       "      <td>0.166667</td>\n",
       "      <td>0.333333</td>\n",
       "      <td>0.0</td>\n",
       "      <td>0.0</td>\n",
       "    </tr>\n",
       "    <tr>\n",
       "      <th>30785</th>\n",
       "      <td>0.323239</td>\n",
       "      <td>0.500000</td>\n",
       "      <td>0.500000</td>\n",
       "      <td>0.0</td>\n",
       "      <td>0.0</td>\n",
       "    </tr>\n",
       "    <tr>\n",
       "      <th>30786</th>\n",
       "      <td>0.419623</td>\n",
       "      <td>0.500000</td>\n",
       "      <td>0.833333</td>\n",
       "      <td>0.0</td>\n",
       "      <td>0.0</td>\n",
       "    </tr>\n",
       "  </tbody>\n",
       "</table>\n",
       "<p>30787 rows × 5 columns</p>\n",
       "</div>"
      ],
      "text/plain": [
       "       area_sqft  bathrooms   bedroom  orange  ventura\n",
       "0       0.259907   0.333333  0.666667     1.0      0.0\n",
       "1       0.177193   0.333333  0.500000     0.0      0.0\n",
       "2       0.197093   0.333333  0.500000     0.0      0.0\n",
       "3       0.133760   0.166667  0.166667     0.0      0.0\n",
       "4       0.221838   0.333333  0.500000     0.0      0.0\n",
       "...          ...        ...       ...     ...      ...\n",
       "30782   0.120782   0.166667  0.333333     1.0      0.0\n",
       "30783   0.110573   0.166667  0.333333     0.0      0.0\n",
       "30784   0.146219   0.166667  0.333333     0.0      0.0\n",
       "30785   0.323239   0.500000  0.500000     0.0      0.0\n",
       "30786   0.419623   0.500000  0.833333     0.0      0.0\n",
       "\n",
       "[30787 rows x 5 columns]"
      ]
     },
     "execution_count": 33,
     "metadata": {},
     "output_type": "execute_result"
    }
   ],
   "source": [
    "x_train_scaled"
   ]
  },
  {
   "cell_type": "code",
   "execution_count": 34,
   "id": "80a0f097",
   "metadata": {},
   "outputs": [],
   "source": [
    "# feature engineerin KBest "
   ]
  },
  {
   "cell_type": "code",
   "execution_count": 35,
   "id": "b66811c1",
   "metadata": {},
   "outputs": [
    {
     "data": {
      "text/plain": [
       "Index(['area_sqft', 'bathrooms', 'bedroom', 'orange'], dtype='object')"
      ]
     },
     "execution_count": 35,
     "metadata": {},
     "output_type": "execute_result"
    }
   ],
   "source": [
    "m.select_kbest(x_train_scaled, y_train, 4)"
   ]
  },
  {
   "cell_type": "code",
   "execution_count": 36,
   "id": "a19e0402",
   "metadata": {},
   "outputs": [
    {
     "data": {
      "text/plain": [
       "(['area_sqft', 'bathrooms', 'bedroom', 'orange'],\n",
       "            rfe_ranking\n",
       " area_sqft            1\n",
       " bathrooms            1\n",
       " bedroom              1\n",
       " orange               1\n",
       " ventura              2)"
      ]
     },
     "execution_count": 36,
     "metadata": {},
     "output_type": "execute_result"
    }
   ],
   "source": [
    "# Rfe\n",
    "m.rfe(x_train_scaled,y_train, k=4)"
   ]
  },
  {
   "cell_type": "code",
   "execution_count": 37,
   "id": "06fe47a6",
   "metadata": {},
   "outputs": [],
   "source": [
    "def get_baseline(y_train):\n",
    "    x_train_scaled[\"yhat_baseline\"] = y_train.mean()\n",
    "    return df"
   ]
  },
  {
   "cell_type": "code",
   "execution_count": 38,
   "id": "fc100e0d",
   "metadata": {},
   "outputs": [
    {
     "data": {
      "text/plain": [
       "463588.2115178484"
      ]
     },
     "execution_count": 38,
     "metadata": {},
     "output_type": "execute_result"
    }
   ],
   "source": [
    "# create baseline\n",
    "baseline = y_train.mean()\n",
    "baseline"
   ]
  },
  {
   "cell_type": "code",
   "execution_count": 39,
   "id": "043a6583",
   "metadata": {},
   "outputs": [
    {
     "data": {
      "text/plain": [
       "array([463588.21151785, 463588.21151785, 463588.21151785, 463588.21151785,\n",
       "       463588.21151785])"
      ]
     },
     "execution_count": 39,
     "metadata": {},
     "output_type": "execute_result"
    }
   ],
   "source": [
    "baseline_array = np.repeat(baseline, len(train))\n",
    "baseline_array[:5]"
   ]
  },
  {
   "cell_type": "code",
   "execution_count": 40,
   "id": "219a2845",
   "metadata": {},
   "outputs": [
    {
     "data": {
      "text/plain": [
       "(402475.23486790824, 0.0)"
      ]
     },
     "execution_count": 40,
     "metadata": {},
     "output_type": "execute_result"
    }
   ],
   "source": [
    "rmse, r2 = m.metrics_reg(y_train, baseline_array)\n",
    "rmse, r2"
   ]
  },
  {
   "cell_type": "code",
   "execution_count": 41,
   "id": "1720098c",
   "metadata": {},
   "outputs": [
    {
     "data": {
      "text/html": [
       "<div>\n",
       "<style scoped>\n",
       "    .dataframe tbody tr th:only-of-type {\n",
       "        vertical-align: middle;\n",
       "    }\n",
       "\n",
       "    .dataframe tbody tr th {\n",
       "        vertical-align: top;\n",
       "    }\n",
       "\n",
       "    .dataframe thead th {\n",
       "        text-align: right;\n",
       "    }\n",
       "</style>\n",
       "<table border=\"1\" class=\"dataframe\">\n",
       "  <thead>\n",
       "    <tr style=\"text-align: right;\">\n",
       "      <th></th>\n",
       "      <th>model</th>\n",
       "      <th>rmse</th>\n",
       "      <th>r2</th>\n",
       "    </tr>\n",
       "  </thead>\n",
       "  <tbody>\n",
       "    <tr>\n",
       "      <th>0</th>\n",
       "      <td>baseline</td>\n",
       "      <td>402475.234868</td>\n",
       "      <td>0.0</td>\n",
       "    </tr>\n",
       "  </tbody>\n",
       "</table>\n",
       "</div>"
      ],
      "text/plain": [
       "      model           rmse   r2\n",
       "0  baseline  402475.234868  0.0"
      ]
     },
     "execution_count": 41,
     "metadata": {},
     "output_type": "execute_result"
    }
   ],
   "source": [
    "metrics_df = pd.DataFrame(data=[\n",
    "    {\n",
    "        'model':'baseline',\n",
    "        'rmse':rmse,\n",
    "        'r2':r2\n",
    "    }\n",
    "    \n",
    "])\n",
    "metrics_df"
   ]
  },
  {
   "cell_type": "markdown",
   "id": "b7a65c15",
   "metadata": {},
   "source": [
    "# OLS "
   ]
  },
  {
   "cell_type": "code",
   "execution_count": 42,
   "id": "23d62df8",
   "metadata": {},
   "outputs": [],
   "source": [
    "#intial ML model\n",
    "lr1 = LinearRegression()\n",
    "\n",
    "#make it\n",
    "rfe = RFE(lr1, n_features_to_select=3)\n",
    "\n",
    "#fit it\n",
    "rfe.fit(x_train_scaled, y_train)\n",
    "\n",
    "#use it on train\n",
    "x_train_rfe1 = rfe.transform(x_train_scaled)\n",
    "\n",
    "# #use it on validate\n",
    "x_val_rfe1 = rfe.transform(x_validate_scaled)"
   ]
  },
  {
   "cell_type": "code",
   "execution_count": 43,
   "id": "d88882dd",
   "metadata": {},
   "outputs": [],
   "source": [
    "#intial ML model\n",
    "lr1 = LinearRegression()\n",
    "\n",
    "#make it\n",
    "rfe = RFE(lr1, n_features_to_select=3)\n",
    "\n",
    "#fit it\n",
    "rfe.fit(x_train_scaled, y_train)\n",
    "\n",
    "#use it on train\n",
    "x_train_rfe = rfe.transform(x_train_scaled)\n",
    "\n",
    "# #use it on validate\n",
    "x_val_rfe = rfe.transform(x_validate_scaled)"
   ]
  },
  {
   "cell_type": "code",
   "execution_count": 44,
   "id": "96dc4078",
   "metadata": {},
   "outputs": [
    {
     "name": "stdout",
     "output_type": "stream",
     "text": [
      "selected top feature: ['area_sqft' 'bathrooms' 'bedroom']\n"
     ]
    }
   ],
   "source": [
    "print('selected top feature:', rfe.get_feature_names_out())"
   ]
  },
  {
   "cell_type": "code",
   "execution_count": 45,
   "id": "8004c718",
   "metadata": {},
   "outputs": [],
   "source": [
    "#fit the thing\n",
    "lr1.fit(x_train_rfe, y_train)\n",
    "\n",
    "#use the thing (make predictions)\n",
    "pred_lr1 = lr1.predict(x_train_rfe)\n",
    "pred_val_lr1 = lr1.predict(x_val_rfe)"
   ]
  },
  {
   "cell_type": "code",
   "execution_count": 46,
   "id": "57b29d6d",
   "metadata": {},
   "outputs": [
    {
     "data": {
      "text/plain": [
       "(322401.7752597692, 0.3583229244105084)"
      ]
     },
     "execution_count": 46,
     "metadata": {},
     "output_type": "execute_result"
    }
   ],
   "source": [
    "#train\n",
    "m.metrics_reg(y_train, pred_lr1)\n"
   ]
  },
  {
   "cell_type": "code",
   "execution_count": 47,
   "id": "951cb40e",
   "metadata": {},
   "outputs": [
    {
     "data": {
      "text/plain": [
       "(321099.0369977036, 0.35827413738719693)"
      ]
     },
     "execution_count": 47,
     "metadata": {},
     "output_type": "execute_result"
    }
   ],
   "source": [
    "#validate\n",
    "rmse, r2 = m.metrics_reg(y_validate, pred_val_lr1)\n",
    "rmse, r2"
   ]
  },
  {
   "cell_type": "code",
   "execution_count": 48,
   "id": "79ac0a7d",
   "metadata": {},
   "outputs": [
    {
     "data": {
      "text/html": [
       "<div>\n",
       "<style scoped>\n",
       "    .dataframe tbody tr th:only-of-type {\n",
       "        vertical-align: middle;\n",
       "    }\n",
       "\n",
       "    .dataframe tbody tr th {\n",
       "        vertical-align: top;\n",
       "    }\n",
       "\n",
       "    .dataframe thead th {\n",
       "        text-align: right;\n",
       "    }\n",
       "</style>\n",
       "<table border=\"1\" class=\"dataframe\">\n",
       "  <thead>\n",
       "    <tr style=\"text-align: right;\">\n",
       "      <th></th>\n",
       "      <th>model</th>\n",
       "      <th>rmse</th>\n",
       "      <th>r2</th>\n",
       "    </tr>\n",
       "  </thead>\n",
       "  <tbody>\n",
       "    <tr>\n",
       "      <th>0</th>\n",
       "      <td>baseline</td>\n",
       "      <td>402475.234868</td>\n",
       "      <td>0.000000</td>\n",
       "    </tr>\n",
       "    <tr>\n",
       "      <th>1</th>\n",
       "      <td>ols_1</td>\n",
       "      <td>321099.036998</td>\n",
       "      <td>0.358274</td>\n",
       "    </tr>\n",
       "  </tbody>\n",
       "</table>\n",
       "</div>"
      ],
      "text/plain": [
       "      model           rmse        r2\n",
       "0  baseline  402475.234868  0.000000\n",
       "1     ols_1  321099.036998  0.358274"
      ]
     },
     "execution_count": 48,
     "metadata": {},
     "output_type": "execute_result"
    }
   ],
   "source": [
    "#add to my metrics df\n",
    "metrics_df.loc[1] = ['ols_1', rmse, r2]\n",
    "metrics_df"
   ]
  },
  {
   "cell_type": "code",
   "execution_count": 49,
   "id": "513c7702",
   "metadata": {},
   "outputs": [
    {
     "data": {
      "text/plain": [
       "115671.62208756089"
      ]
     },
     "execution_count": 49,
     "metadata": {},
     "output_type": "execute_result"
    }
   ],
   "source": [
    "lr1.intercept_"
   ]
  },
  {
   "cell_type": "code",
   "execution_count": 50,
   "id": "c637707b",
   "metadata": {},
   "outputs": [
    {
     "data": {
      "text/plain": [
       "array([1606220.77728373,  397086.38978055, -503335.77135026])"
      ]
     },
     "execution_count": 50,
     "metadata": {},
     "output_type": "execute_result"
    }
   ],
   "source": [
    "lr1.coef_"
   ]
  },
  {
   "cell_type": "code",
   "execution_count": 51,
   "id": "95870b5d",
   "metadata": {},
   "outputs": [
    {
     "name": "stdout",
     "output_type": "stream",
     "text": [
      "property value = 1.16e+05 + 1.6e+06*bathroom\n"
     ]
    }
   ],
   "source": [
    "print(f'property value = {lr1.intercept_:.3} + {lr1.coef_[0]:.2}*bathroom')"
   ]
  },
  {
   "cell_type": "code",
   "execution_count": 52,
   "id": "e35f2045",
   "metadata": {},
   "outputs": [],
   "source": [
    "#make it\n",
    "lr2 = LinearRegression()\n",
    "\n",
    "#fit it on our RFE features\n",
    "lr2.fit(x_train_scaled, y_train)\n",
    "\n",
    "#use it (make predictions)\n",
    "pred_lr2 = lr2.predict(x_train_scaled)\n",
    "\n",
    "#use it on validate\n",
    "pred_val_lr2 = lr2.predict(x_validate_scaled)"
   ]
  },
  {
   "cell_type": "code",
   "execution_count": 53,
   "id": "f71414ec",
   "metadata": {},
   "outputs": [
    {
     "data": {
      "text/plain": [
       "(321894.68363629555, 0.36033986848372435)"
      ]
     },
     "execution_count": 53,
     "metadata": {},
     "output_type": "execute_result"
    }
   ],
   "source": [
    "m.metrics_reg(y_train, pred_lr2)"
   ]
  },
  {
   "cell_type": "code",
   "execution_count": 54,
   "id": "da69e7cd",
   "metadata": {},
   "outputs": [
    {
     "data": {
      "text/plain": [
       "(320695.18000719725, 0.3598873623752652)"
      ]
     },
     "execution_count": 54,
     "metadata": {},
     "output_type": "execute_result"
    }
   ],
   "source": [
    "# validate\n",
    "rmse, r2 = m.metrics_reg(y_validate, pred_val_lr2)\n",
    "rmse, r2"
   ]
  },
  {
   "cell_type": "code",
   "execution_count": 55,
   "id": "00ad0d2b",
   "metadata": {},
   "outputs": [
    {
     "data": {
      "text/html": [
       "<div>\n",
       "<style scoped>\n",
       "    .dataframe tbody tr th:only-of-type {\n",
       "        vertical-align: middle;\n",
       "    }\n",
       "\n",
       "    .dataframe tbody tr th {\n",
       "        vertical-align: top;\n",
       "    }\n",
       "\n",
       "    .dataframe thead th {\n",
       "        text-align: right;\n",
       "    }\n",
       "</style>\n",
       "<table border=\"1\" class=\"dataframe\">\n",
       "  <thead>\n",
       "    <tr style=\"text-align: right;\">\n",
       "      <th></th>\n",
       "      <th>model</th>\n",
       "      <th>rmse</th>\n",
       "      <th>r2</th>\n",
       "    </tr>\n",
       "  </thead>\n",
       "  <tbody>\n",
       "    <tr>\n",
       "      <th>0</th>\n",
       "      <td>baseline</td>\n",
       "      <td>402475.234868</td>\n",
       "      <td>0.000000</td>\n",
       "    </tr>\n",
       "    <tr>\n",
       "      <th>1</th>\n",
       "      <td>ols_1</td>\n",
       "      <td>321099.036998</td>\n",
       "      <td>0.358274</td>\n",
       "    </tr>\n",
       "    <tr>\n",
       "      <th>2</th>\n",
       "      <td>ols</td>\n",
       "      <td>320695.180007</td>\n",
       "      <td>0.359887</td>\n",
       "    </tr>\n",
       "  </tbody>\n",
       "</table>\n",
       "</div>"
      ],
      "text/plain": [
       "      model           rmse        r2\n",
       "0  baseline  402475.234868  0.000000\n",
       "1     ols_1  321099.036998  0.358274\n",
       "2       ols  320695.180007  0.359887"
      ]
     },
     "execution_count": 55,
     "metadata": {},
     "output_type": "execute_result"
    }
   ],
   "source": [
    "metrics_df.loc[2] = ['ols', rmse, r2]\n",
    "metrics_df"
   ]
  },
  {
   "cell_type": "markdown",
   "id": "5f04616a",
   "metadata": {},
   "source": [
    "# Model LassoLars"
   ]
  },
  {
   "cell_type": "code",
   "execution_count": 56,
   "id": "a8be049e",
   "metadata": {},
   "outputs": [],
   "source": [
    "#make it\n",
    "lars = LassoLars(alpha=1)\n",
    "\n",
    "#fit it\n",
    "lars.fit(x_train_scaled, y_train)\n",
    "\n",
    "#use it\n",
    "pred_lars = lars.predict(x_train_scaled)\n",
    "pred_val_lars = lars.predict(x_validate_scaled)"
   ]
  },
  {
   "cell_type": "code",
   "execution_count": 57,
   "id": "9eab1ae4",
   "metadata": {},
   "outputs": [
    {
     "data": {
      "text/plain": [
       "area_sqft    1.595651e+06\n",
       "bathrooms    3.885357e+05\n",
       "bedroom     -5.030905e+05\n",
       "orange       3.981861e+04\n",
       "ventura     -7.100238e+03\n",
       "dtype: float64"
      ]
     },
     "execution_count": 57,
     "metadata": {},
     "output_type": "execute_result"
    }
   ],
   "source": [
    "pd.Series(lars.coef_, index=lars.feature_names_in_)"
   ]
  },
  {
   "cell_type": "code",
   "execution_count": 58,
   "id": "e48ba52f",
   "metadata": {},
   "outputs": [
    {
     "data": {
      "text/plain": [
       "array([1597596.81224368,  390217.90933227, -506522.75461095,\n",
       "         40122.31595613,   -7609.86282652])"
      ]
     },
     "execution_count": 58,
     "metadata": {},
     "output_type": "execute_result"
    }
   ],
   "source": [
    "lr2.coef_"
   ]
  },
  {
   "cell_type": "code",
   "execution_count": 59,
   "id": "012f4a21",
   "metadata": {},
   "outputs": [
    {
     "data": {
      "text/plain": [
       "(321895.04545999254, 0.3603384304710112)"
      ]
     },
     "execution_count": 59,
     "metadata": {},
     "output_type": "execute_result"
    }
   ],
   "source": [
    "#train\n",
    "m.metrics_reg(y_train, pred_lars)"
   ]
  },
  {
   "cell_type": "code",
   "execution_count": 60,
   "id": "9fb5a5a8",
   "metadata": {},
   "outputs": [
    {
     "data": {
      "text/plain": [
       "(320697.9796831018, 0.35987618593195025)"
      ]
     },
     "execution_count": 60,
     "metadata": {},
     "output_type": "execute_result"
    }
   ],
   "source": [
    "#validate\n",
    "rmse, r2 = m.metrics_reg(y_validate, pred_val_lars)\n",
    "rmse, r2"
   ]
  },
  {
   "cell_type": "code",
   "execution_count": 61,
   "id": "3c350ae3",
   "metadata": {},
   "outputs": [
    {
     "data": {
      "text/html": [
       "<div>\n",
       "<style scoped>\n",
       "    .dataframe tbody tr th:only-of-type {\n",
       "        vertical-align: middle;\n",
       "    }\n",
       "\n",
       "    .dataframe tbody tr th {\n",
       "        vertical-align: top;\n",
       "    }\n",
       "\n",
       "    .dataframe thead th {\n",
       "        text-align: right;\n",
       "    }\n",
       "</style>\n",
       "<table border=\"1\" class=\"dataframe\">\n",
       "  <thead>\n",
       "    <tr style=\"text-align: right;\">\n",
       "      <th></th>\n",
       "      <th>model</th>\n",
       "      <th>rmse</th>\n",
       "      <th>r2</th>\n",
       "    </tr>\n",
       "  </thead>\n",
       "  <tbody>\n",
       "    <tr>\n",
       "      <th>0</th>\n",
       "      <td>baseline</td>\n",
       "      <td>402475.234868</td>\n",
       "      <td>0.000000</td>\n",
       "    </tr>\n",
       "    <tr>\n",
       "      <th>1</th>\n",
       "      <td>ols_1</td>\n",
       "      <td>321099.036998</td>\n",
       "      <td>0.358274</td>\n",
       "    </tr>\n",
       "    <tr>\n",
       "      <th>2</th>\n",
       "      <td>ols</td>\n",
       "      <td>320695.180007</td>\n",
       "      <td>0.359887</td>\n",
       "    </tr>\n",
       "    <tr>\n",
       "      <th>3</th>\n",
       "      <td>lars</td>\n",
       "      <td>320697.979683</td>\n",
       "      <td>0.359876</td>\n",
       "    </tr>\n",
       "  </tbody>\n",
       "</table>\n",
       "</div>"
      ],
      "text/plain": [
       "      model           rmse        r2\n",
       "0  baseline  402475.234868  0.000000\n",
       "1     ols_1  321099.036998  0.358274\n",
       "2       ols  320695.180007  0.359887\n",
       "3      lars  320697.979683  0.359876"
      ]
     },
     "execution_count": 61,
     "metadata": {},
     "output_type": "execute_result"
    }
   ],
   "source": [
    "#add to my metrics df\n",
    "metrics_df.loc[3] = ['lars', rmse, r2]\n",
    "metrics_df"
   ]
  },
  {
   "cell_type": "code",
   "execution_count": 64,
   "id": "ebcfb6ef",
   "metadata": {},
   "outputs": [
    {
     "data": {
      "text/html": [
       "<div>\n",
       "<style scoped>\n",
       "    .dataframe tbody tr th:only-of-type {\n",
       "        vertical-align: middle;\n",
       "    }\n",
       "\n",
       "    .dataframe tbody tr th {\n",
       "        vertical-align: top;\n",
       "    }\n",
       "\n",
       "    .dataframe thead th {\n",
       "        text-align: right;\n",
       "    }\n",
       "</style>\n",
       "<table border=\"1\" class=\"dataframe\">\n",
       "  <thead>\n",
       "    <tr style=\"text-align: right;\">\n",
       "      <th></th>\n",
       "      <th>area_sqft</th>\n",
       "      <th>bathrooms</th>\n",
       "      <th>bedroom</th>\n",
       "      <th>orange</th>\n",
       "      <th>ventura</th>\n",
       "    </tr>\n",
       "  </thead>\n",
       "  <tbody>\n",
       "    <tr>\n",
       "      <th>0</th>\n",
       "      <td>0.311992</td>\n",
       "      <td>0.333333</td>\n",
       "      <td>0.666667</td>\n",
       "      <td>1.0</td>\n",
       "      <td>0.0</td>\n",
       "    </tr>\n",
       "    <tr>\n",
       "      <th>1</th>\n",
       "      <td>0.265444</td>\n",
       "      <td>0.416667</td>\n",
       "      <td>0.666667</td>\n",
       "      <td>0.0</td>\n",
       "      <td>1.0</td>\n",
       "    </tr>\n",
       "    <tr>\n",
       "      <th>2</th>\n",
       "      <td>0.282056</td>\n",
       "      <td>0.500000</td>\n",
       "      <td>0.500000</td>\n",
       "      <td>0.0</td>\n",
       "      <td>0.0</td>\n",
       "    </tr>\n",
       "    <tr>\n",
       "      <th>3</th>\n",
       "      <td>0.296418</td>\n",
       "      <td>0.333333</td>\n",
       "      <td>0.500000</td>\n",
       "      <td>0.0</td>\n",
       "      <td>0.0</td>\n",
       "    </tr>\n",
       "    <tr>\n",
       "      <th>4</th>\n",
       "      <td>0.215954</td>\n",
       "      <td>0.333333</td>\n",
       "      <td>0.500000</td>\n",
       "      <td>1.0</td>\n",
       "      <td>0.0</td>\n",
       "    </tr>\n",
       "    <tr>\n",
       "      <th>...</th>\n",
       "      <td>...</td>\n",
       "      <td>...</td>\n",
       "      <td>...</td>\n",
       "      <td>...</td>\n",
       "      <td>...</td>\n",
       "    </tr>\n",
       "    <tr>\n",
       "      <th>10258</th>\n",
       "      <td>0.191729</td>\n",
       "      <td>0.333333</td>\n",
       "      <td>0.666667</td>\n",
       "      <td>0.0</td>\n",
       "      <td>0.0</td>\n",
       "    </tr>\n",
       "    <tr>\n",
       "      <th>10259</th>\n",
       "      <td>0.417373</td>\n",
       "      <td>0.583333</td>\n",
       "      <td>0.666667</td>\n",
       "      <td>1.0</td>\n",
       "      <td>0.0</td>\n",
       "    </tr>\n",
       "    <tr>\n",
       "      <th>10260</th>\n",
       "      <td>0.631597</td>\n",
       "      <td>0.583333</td>\n",
       "      <td>0.666667</td>\n",
       "      <td>0.0</td>\n",
       "      <td>1.0</td>\n",
       "    </tr>\n",
       "    <tr>\n",
       "      <th>10261</th>\n",
       "      <td>0.173559</td>\n",
       "      <td>0.333333</td>\n",
       "      <td>0.500000</td>\n",
       "      <td>0.0</td>\n",
       "      <td>0.0</td>\n",
       "    </tr>\n",
       "    <tr>\n",
       "      <th>10262</th>\n",
       "      <td>0.189133</td>\n",
       "      <td>0.333333</td>\n",
       "      <td>0.500000</td>\n",
       "      <td>0.0</td>\n",
       "      <td>0.0</td>\n",
       "    </tr>\n",
       "  </tbody>\n",
       "</table>\n",
       "<p>10263 rows × 5 columns</p>\n",
       "</div>"
      ],
      "text/plain": [
       "       area_sqft  bathrooms   bedroom  orange  ventura\n",
       "0       0.311992   0.333333  0.666667     1.0      0.0\n",
       "1       0.265444   0.416667  0.666667     0.0      1.0\n",
       "2       0.282056   0.500000  0.500000     0.0      0.0\n",
       "3       0.296418   0.333333  0.500000     0.0      0.0\n",
       "4       0.215954   0.333333  0.500000     1.0      0.0\n",
       "...          ...        ...       ...     ...      ...\n",
       "10258   0.191729   0.333333  0.666667     0.0      0.0\n",
       "10259   0.417373   0.583333  0.666667     1.0      0.0\n",
       "10260   0.631597   0.583333  0.666667     0.0      1.0\n",
       "10261   0.173559   0.333333  0.500000     0.0      0.0\n",
       "10262   0.189133   0.333333  0.500000     0.0      0.0\n",
       "\n",
       "[10263 rows x 5 columns]"
      ]
     },
     "execution_count": 64,
     "metadata": {},
     "output_type": "execute_result"
    }
   ],
   "source": [
    "x_test_scaled"
   ]
  },
  {
   "cell_type": "markdown",
   "id": "3412449c",
   "metadata": {},
   "source": [
    "# Poly"
   ]
  },
  {
   "cell_type": "code",
   "execution_count": 86,
   "id": "9b712ee6",
   "metadata": {},
   "outputs": [],
   "source": [
    "# make the polynomial features to get a new set of features\n",
    "pf = PolynomialFeatures(degree=3)\n",
    "\n",
    "# fit and transform X_train_scaled\n",
    "x_train_degree2 = pf.fit_transform(x_train_scaled)\n",
    "\n",
    "# transform X_validate_scaled & X_test_scaled\n",
    "x_validate_degree2 = pf.transform(x_validate_scaled)\n",
    "x_test_degree2 = pf.transform(x_test_scaled)"
   ]
  },
  {
   "cell_type": "code",
   "execution_count": 87,
   "id": "3c9111fb",
   "metadata": {},
   "outputs": [],
   "source": [
    "#make it\n",
    "pr = LinearRegression()\n",
    "\n",
    "#fit it\n",
    "pr.fit(x_train_degree2, y_train)\n",
    "\n",
    "#use it\n",
    "pred_pr = pr.predict(x_train_degree2)\n",
    "pred_val_pr = pr.predict(x_validate_degree2)\n"
   ]
  },
  {
   "cell_type": "code",
   "execution_count": 88,
   "id": "abb2bcb5",
   "metadata": {},
   "outputs": [
    {
     "data": {
      "text/plain": [
       "(317852.4034464837, 0.3763044083381043)"
      ]
     },
     "execution_count": 88,
     "metadata": {},
     "output_type": "execute_result"
    }
   ],
   "source": [
    "#train\n",
    "m.metrics_reg(y_train, pred_pr)"
   ]
  },
  {
   "cell_type": "code",
   "execution_count": 89,
   "id": "bac8d74d",
   "metadata": {},
   "outputs": [
    {
     "data": {
      "text/plain": [
       "(317007.86652578117, 0.3745226104816435)"
      ]
     },
     "execution_count": 89,
     "metadata": {},
     "output_type": "execute_result"
    }
   ],
   "source": [
    "#validate\n",
    "rmse, r2 = m.metrics_reg(y_validate, pred_val_pr)\n",
    "rmse, r2"
   ]
  },
  {
   "cell_type": "code",
   "execution_count": 90,
   "id": "1fc47814",
   "metadata": {},
   "outputs": [
    {
     "data": {
      "text/html": [
       "<div>\n",
       "<style scoped>\n",
       "    .dataframe tbody tr th:only-of-type {\n",
       "        vertical-align: middle;\n",
       "    }\n",
       "\n",
       "    .dataframe tbody tr th {\n",
       "        vertical-align: top;\n",
       "    }\n",
       "\n",
       "    .dataframe thead th {\n",
       "        text-align: right;\n",
       "    }\n",
       "</style>\n",
       "<table border=\"1\" class=\"dataframe\">\n",
       "  <thead>\n",
       "    <tr style=\"text-align: right;\">\n",
       "      <th></th>\n",
       "      <th>model</th>\n",
       "      <th>rmse</th>\n",
       "      <th>r2</th>\n",
       "    </tr>\n",
       "  </thead>\n",
       "  <tbody>\n",
       "    <tr>\n",
       "      <th>0</th>\n",
       "      <td>baseline</td>\n",
       "      <td>402475.234868</td>\n",
       "      <td>0.000000</td>\n",
       "    </tr>\n",
       "    <tr>\n",
       "      <th>1</th>\n",
       "      <td>ols_1</td>\n",
       "      <td>321099.036998</td>\n",
       "      <td>0.358274</td>\n",
       "    </tr>\n",
       "    <tr>\n",
       "      <th>2</th>\n",
       "      <td>ols</td>\n",
       "      <td>320695.180007</td>\n",
       "      <td>0.359887</td>\n",
       "    </tr>\n",
       "    <tr>\n",
       "      <th>3</th>\n",
       "      <td>lars</td>\n",
       "      <td>320697.979683</td>\n",
       "      <td>0.359876</td>\n",
       "    </tr>\n",
       "    <tr>\n",
       "      <th>4</th>\n",
       "      <td>poly_2</td>\n",
       "      <td>317007.866526</td>\n",
       "      <td>0.374523</td>\n",
       "    </tr>\n",
       "    <tr>\n",
       "      <th>5</th>\n",
       "      <td>glm</td>\n",
       "      <td>320695.180003</td>\n",
       "      <td>0.359887</td>\n",
       "    </tr>\n",
       "    <tr>\n",
       "      <th>6</th>\n",
       "      <td>test</td>\n",
       "      <td>320535.477026</td>\n",
       "      <td>0.378483</td>\n",
       "    </tr>\n",
       "  </tbody>\n",
       "</table>\n",
       "</div>"
      ],
      "text/plain": [
       "      model           rmse        r2\n",
       "0  baseline  402475.234868  0.000000\n",
       "1     ols_1  321099.036998  0.358274\n",
       "2       ols  320695.180007  0.359887\n",
       "3      lars  320697.979683  0.359876\n",
       "4    poly_2  317007.866526  0.374523\n",
       "5       glm  320695.180003  0.359887\n",
       "6      test  320535.477026  0.378483"
      ]
     },
     "execution_count": 90,
     "metadata": {},
     "output_type": "execute_result"
    }
   ],
   "source": [
    "#add to my metrics df\n",
    "metrics_df.loc[4] = ['poly_2', rmse, r2]\n",
    "metrics_df"
   ]
  },
  {
   "cell_type": "markdown",
   "id": "3d33a301",
   "metadata": {},
   "source": [
    "# GLM"
   ]
  },
  {
   "cell_type": "code",
   "execution_count": 91,
   "id": "da064555",
   "metadata": {},
   "outputs": [],
   "source": [
    "#make it\n",
    "glm = TweedieRegressor(power=0, alpha=0)\n",
    "\n",
    "#fit it\n",
    "glm.fit(x_train_scaled, y_train)\n",
    "\n",
    "#use it\n",
    "pred_glm = glm.predict(x_train_scaled)\n",
    "pred_val_glm = glm.predict(x_validate_scaled)"
   ]
  },
  {
   "cell_type": "code",
   "execution_count": 92,
   "id": "d03fa59a",
   "metadata": {},
   "outputs": [
    {
     "data": {
      "text/plain": [
       "(321894.6836362961, 0.36033986848372235)"
      ]
     },
     "execution_count": 92,
     "metadata": {},
     "output_type": "execute_result"
    }
   ],
   "source": [
    "#train\n",
    "m.metrics_reg(y_train, pred_glm)"
   ]
  },
  {
   "cell_type": "code",
   "execution_count": 93,
   "id": "4eddf549",
   "metadata": {},
   "outputs": [
    {
     "data": {
      "text/plain": [
       "(320695.18000321294, 0.3598873623911707)"
      ]
     },
     "execution_count": 93,
     "metadata": {},
     "output_type": "execute_result"
    }
   ],
   "source": [
    "#validate\n",
    "rmse, r2 = m.metrics_reg(y_validate, pred_val_glm)\n",
    "rmse, r2"
   ]
  },
  {
   "cell_type": "code",
   "execution_count": 94,
   "id": "4d595d91",
   "metadata": {},
   "outputs": [
    {
     "data": {
      "text/html": [
       "<div>\n",
       "<style scoped>\n",
       "    .dataframe tbody tr th:only-of-type {\n",
       "        vertical-align: middle;\n",
       "    }\n",
       "\n",
       "    .dataframe tbody tr th {\n",
       "        vertical-align: top;\n",
       "    }\n",
       "\n",
       "    .dataframe thead th {\n",
       "        text-align: right;\n",
       "    }\n",
       "</style>\n",
       "<table border=\"1\" class=\"dataframe\">\n",
       "  <thead>\n",
       "    <tr style=\"text-align: right;\">\n",
       "      <th></th>\n",
       "      <th>model</th>\n",
       "      <th>rmse</th>\n",
       "      <th>r2</th>\n",
       "    </tr>\n",
       "  </thead>\n",
       "  <tbody>\n",
       "    <tr>\n",
       "      <th>0</th>\n",
       "      <td>baseline</td>\n",
       "      <td>402475.234868</td>\n",
       "      <td>0.000000</td>\n",
       "    </tr>\n",
       "    <tr>\n",
       "      <th>1</th>\n",
       "      <td>ols_1</td>\n",
       "      <td>321099.036998</td>\n",
       "      <td>0.358274</td>\n",
       "    </tr>\n",
       "    <tr>\n",
       "      <th>2</th>\n",
       "      <td>ols</td>\n",
       "      <td>320695.180007</td>\n",
       "      <td>0.359887</td>\n",
       "    </tr>\n",
       "    <tr>\n",
       "      <th>3</th>\n",
       "      <td>lars</td>\n",
       "      <td>320697.979683</td>\n",
       "      <td>0.359876</td>\n",
       "    </tr>\n",
       "    <tr>\n",
       "      <th>4</th>\n",
       "      <td>poly_2</td>\n",
       "      <td>317007.866526</td>\n",
       "      <td>0.374523</td>\n",
       "    </tr>\n",
       "    <tr>\n",
       "      <th>5</th>\n",
       "      <td>glm</td>\n",
       "      <td>320695.180003</td>\n",
       "      <td>0.359887</td>\n",
       "    </tr>\n",
       "    <tr>\n",
       "      <th>6</th>\n",
       "      <td>test</td>\n",
       "      <td>320535.477026</td>\n",
       "      <td>0.378483</td>\n",
       "    </tr>\n",
       "  </tbody>\n",
       "</table>\n",
       "</div>"
      ],
      "text/plain": [
       "      model           rmse        r2\n",
       "0  baseline  402475.234868  0.000000\n",
       "1     ols_1  321099.036998  0.358274\n",
       "2       ols  320695.180007  0.359887\n",
       "3      lars  320697.979683  0.359876\n",
       "4    poly_2  317007.866526  0.374523\n",
       "5       glm  320695.180003  0.359887\n",
       "6      test  320535.477026  0.378483"
      ]
     },
     "execution_count": 94,
     "metadata": {},
     "output_type": "execute_result"
    }
   ],
   "source": [
    "metrics_df.loc[5] = ['glm',rmse,r2]\n",
    "metrics_df"
   ]
  },
  {
   "cell_type": "markdown",
   "id": "74b62329",
   "metadata": {},
   "source": [
    "# Evaluate on best model"
   ]
  },
  {
   "cell_type": "code",
   "execution_count": 95,
   "id": "bb14c965",
   "metadata": {},
   "outputs": [
    {
     "data": {
      "text/plain": [
       "array([ 414977.88692737,  356229.62742037,  490845.99148579, ...,\n",
       "       1028195.69160272,  257373.1415021 ,  277482.77614726])"
      ]
     },
     "execution_count": 95,
     "metadata": {},
     "output_type": "execute_result"
    }
   ],
   "source": [
    "#use it\n",
    "pred_test = pr.predict(x_test_degree2)\n",
    "pred_test"
   ]
  },
  {
   "cell_type": "code",
   "execution_count": 96,
   "id": "e9b271b9",
   "metadata": {},
   "outputs": [
    {
     "data": {
      "text/plain": [
       "(319736.07710546907, 0.3815795110484671)"
      ]
     },
     "execution_count": 96,
     "metadata": {},
     "output_type": "execute_result"
    }
   ],
   "source": [
    "rmse, r2 = m.metrics_reg(y_test, pred_test)\n",
    "rmse, r2 "
   ]
  },
  {
   "cell_type": "code",
   "execution_count": 97,
   "id": "040dd0b7",
   "metadata": {},
   "outputs": [
    {
     "data": {
      "image/png": "[encoded data removed]",
      "text/plain": [
       "<Figure size 640x480 with 1 Axes>"
      ]
     },
     "metadata": {},
     "output_type": "display_data"
    }
   ],
   "source": [
    "plt.scatter(pred_lr2, y_train, label='linear regression')\n",
    "plt.scatter(pred_pr, y_train, label='polynominal 2deg')\n",
    "plt.scatter(pred_glm, y_train, label='glm')\n",
    "plt.plot(y_train, y_train, label='_nolegend_', color='grey')\n",
    "\n",
    "plt.axhline(baseline, ls=':', color='grey')\n",
    "plt.annotate(\"Baseline\", (65, 81))\n",
    "\n",
    "plt.title(\"Where are predictions more extreme? More modest?\")\n",
    "plt.ylabel(\"Actual Final Grade\")\n",
    "plt.xlabel(\"Predicted Final Grade\")\n",
    "plt.legend()\n",
    "\n",
    "plt.show()"
   ]
  },
  {
   "cell_type": "code",
   "execution_count": 98,
   "id": "52c39fe5",
   "metadata": {},
   "outputs": [
    {
     "data": {
      "text/html": [
       "<div>\n",
       "<style scoped>\n",
       "    .dataframe tbody tr th:only-of-type {\n",
       "        vertical-align: middle;\n",
       "    }\n",
       "\n",
       "    .dataframe tbody tr th {\n",
       "        vertical-align: top;\n",
       "    }\n",
       "\n",
       "    .dataframe thead th {\n",
       "        text-align: right;\n",
       "    }\n",
       "</style>\n",
       "<table border=\"1\" class=\"dataframe\">\n",
       "  <thead>\n",
       "    <tr style=\"text-align: right;\">\n",
       "      <th></th>\n",
       "      <th>model</th>\n",
       "      <th>rmse</th>\n",
       "      <th>r2</th>\n",
       "    </tr>\n",
       "  </thead>\n",
       "  <tbody>\n",
       "    <tr>\n",
       "      <th>0</th>\n",
       "      <td>baseline</td>\n",
       "      <td>402475.234868</td>\n",
       "      <td>0.000000</td>\n",
       "    </tr>\n",
       "    <tr>\n",
       "      <th>1</th>\n",
       "      <td>ols_1</td>\n",
       "      <td>321099.036998</td>\n",
       "      <td>0.358274</td>\n",
       "    </tr>\n",
       "    <tr>\n",
       "      <th>2</th>\n",
       "      <td>ols</td>\n",
       "      <td>320695.180007</td>\n",
       "      <td>0.359887</td>\n",
       "    </tr>\n",
       "    <tr>\n",
       "      <th>3</th>\n",
       "      <td>lars</td>\n",
       "      <td>320697.979683</td>\n",
       "      <td>0.359876</td>\n",
       "    </tr>\n",
       "    <tr>\n",
       "      <th>4</th>\n",
       "      <td>poly_2</td>\n",
       "      <td>317007.866526</td>\n",
       "      <td>0.374523</td>\n",
       "    </tr>\n",
       "    <tr>\n",
       "      <th>5</th>\n",
       "      <td>glm</td>\n",
       "      <td>320695.180003</td>\n",
       "      <td>0.359887</td>\n",
       "    </tr>\n",
       "    <tr>\n",
       "      <th>6</th>\n",
       "      <td>test</td>\n",
       "      <td>319736.077105</td>\n",
       "      <td>0.381580</td>\n",
       "    </tr>\n",
       "  </tbody>\n",
       "</table>\n",
       "</div>"
      ],
      "text/plain": [
       "      model           rmse        r2\n",
       "0  baseline  402475.234868  0.000000\n",
       "1     ols_1  321099.036998  0.358274\n",
       "2       ols  320695.180007  0.359887\n",
       "3      lars  320697.979683  0.359876\n",
       "4    poly_2  317007.866526  0.374523\n",
       "5       glm  320695.180003  0.359887\n",
       "6      test  319736.077105  0.381580"
      ]
     },
     "execution_count": 98,
     "metadata": {},
     "output_type": "execute_result"
    }
   ],
   "source": [
    "metrics_df.loc[6] = ['test',rmse,r2]\n",
    "metrics_df"
   ]
  },
  {
   "cell_type": "code",
   "execution_count": null,
   "id": "1afde3c7",
   "metadata": {},
   "outputs": [],
   "source": []
  },
  {
   "cell_type": "code",
   "execution_count": 99,
   "id": "26fcb5f6",
   "metadata": {},
   "outputs": [
    {
     "data": {
      "text/plain": [
       "(51313, 10)"
      ]
     },
     "execution_count": 99,
     "metadata": {},
     "output_type": "execute_result"
    }
   ],
   "source": [
    "df.shape"
   ]
  },
  {
   "cell_type": "code",
   "execution_count": 100,
   "id": "98ead868",
   "metadata": {},
   "outputs": [
    {
     "data": {
      "text/plain": [
       "<AxesSubplot:>"
      ]
     },
     "execution_count": 100,
     "metadata": {},
     "output_type": "execute_result"
    },
    {
     "data": {
      "image/png": "[encoded data removed]",
      "text/plain": [
       "<Figure size 640x480 with 1 Axes>"
      ]
     },
     "metadata": {},
     "output_type": "display_data"
    }
   ],
   "source": [
    "df.property_value.hist()"
   ]
  },
  {
   "cell_type": "code",
   "execution_count": null,
   "id": "47574f6e",
   "metadata": {},
   "outputs": [],
   "source": []
  }
 ],
 "metadata": {
  "kernelspec": {
   "display_name": "Python 3 (ipykernel)",
   "language": "python",
   "name": "python3"
  },
  "language_info": {
   "codemirror_mode": {
    "name": "ipython",
    "version": 3
   },
   "file_extension": ".py",
   "mimetype": "text/x-python",
   "name": "python",
   "nbconvert_exporter": "python",
   "pygments_lexer": "ipython3",
   "version": "3.9.13"
  }
 },
 "nbformat": 4,
 "nbformat_minor": 5
}
